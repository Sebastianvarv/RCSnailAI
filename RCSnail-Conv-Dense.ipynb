{
 "cells": [
  {
   "cell_type": "markdown",
   "metadata": {},
   "source": [
    "Import stuff and initialize global parameters."
   ]
  },
  {
   "cell_type": "code",
   "execution_count": 25,
   "metadata": {},
   "outputs": [],
   "source": [
    "import cv2\n",
    "import numpy as np\n",
    "import pandas as pd\n",
    "import matplotlib.pyplot as plt\n",
    "\n",
    "from keras.layers import Conv2D, Flatten, Dense, LSTM, \\\n",
    "    MaxPooling2D\n",
    "from keras.models import Sequential\n",
    "from common import extract_training_data_as_stacked\n",
    "\n",
    "IMAGE_SIZE = (64, 64, 3)"
   ]
  },
  {
   "cell_type": "markdown",
   "metadata": {},
   "source": [
    "# Convolutional network\n",
    "Reading data as bundles and creating initial model."
   ]
  },
  {
   "cell_type": "code",
   "execution_count": 26,
   "metadata": {
    "collapsed": true
   },
   "outputs": [],
   "source": [
    "images, labels = extract_training_data_as_stacked(\"Data/20171029-201949.h264.avi\", \"Data/20171029-201949.h264.csv\", IMAGE_SIZE)"
   ]
  },
  {
   "cell_type": "code",
   "execution_count": 27,
   "metadata": {},
   "outputs": [
    {
     "data": {
      "text/plain": [
       "(1741, 3)"
      ]
     },
     "execution_count": 27,
     "metadata": {},
     "output_type": "execute_result"
    }
   ],
   "source": [
    "y_train = labels.as_matrix(columns=labels.columns[1: -1])\n",
    "y_train.shape"
   ]
  },
  {
   "cell_type": "code",
   "execution_count": 28,
   "metadata": {},
   "outputs": [
    {
     "name": "stdout",
     "output_type": "stream",
     "text": [
      "_________________________________________________________________\n",
      "Layer (type)                 Output Shape              Param #   \n",
      "=================================================================\n",
      "conv2d_4 (Conv2D)            (None, 62, 62, 32)        3488      \n",
      "_________________________________________________________________\n",
      "max_pooling2d_4 (MaxPooling2 (None, 31, 31, 32)        0         \n",
      "_________________________________________________________________\n",
      "flatten_4 (Flatten)          (None, 30752)             0         \n",
      "_________________________________________________________________\n",
      "dense_4 (Dense)              (None, 3)                 92259     \n",
      "=================================================================\n",
      "Total params: 95,747\n",
      "Trainable params: 95,747\n",
      "Non-trainable params: 0\n",
      "_________________________________________________________________\n"
     ]
    }
   ],
   "source": [
    "model = Sequential()\n",
    "model.add(Conv2D(32, (3, 3), kernel_initializer=\"he_normal\", activation='relu', input_shape=(64, 64, 12)))\n",
    "model.add(MaxPooling2D((2, 2)))\n",
    "model.add(Flatten())\n",
    "model.add(Dense(3, activation='linear'))\n",
    "\n",
    "model.compile(loss=\"mse\", optimizer=\"adam\")\n",
    "model.summary()"
   ]
  },
  {
   "cell_type": "code",
   "execution_count": 14,
   "metadata": {},
   "outputs": [
    {
     "name": "stdout",
     "output_type": "stream",
     "text": [
      "Train on 1671 samples, validate on 70 samples\n",
      "Epoch 1/10\n",
      "1671/1671 [==============================] - 8s - loss: 4.7213 - val_loss: 0.4295\n",
      "Epoch 2/10\n",
      "1671/1671 [==============================] - 9s - loss: 0.1984 - val_loss: 0.2533\n",
      "Epoch 3/10\n",
      "1671/1671 [==============================] - 9s - loss: 0.1039 - val_loss: 0.2708\n",
      "Epoch 4/10\n",
      "1671/1671 [==============================] - 9s - loss: 0.0870 - val_loss: 0.2766\n",
      "Epoch 5/10\n",
      "1671/1671 [==============================] - 9s - loss: 0.0765 - val_loss: 0.2846\n",
      "Epoch 6/10\n",
      "1671/1671 [==============================] - 8s - loss: 0.0679 - val_loss: 0.2837\n",
      "Epoch 7/10\n",
      "1671/1671 [==============================] - 8s - loss: 0.0609 - val_loss: 0.3014\n",
      "Epoch 8/10\n",
      "1671/1671 [==============================] - 8s - loss: 0.0538 - val_loss: 0.3077\n",
      "Epoch 9/10\n",
      "1671/1671 [==============================] - 8s - loss: 0.0467 - val_loss: 0.3115\n",
      "Epoch 10/10\n",
      "1671/1671 [==============================] - 9s - loss: 0.0410 - val_loss: 0.3241\n"
     ]
    }
   ],
   "source": [
    "history = model.fit(images, y_train, batch_size=64, epochs=10, validation_split=0.04)"
   ]
  },
  {
   "cell_type": "code",
   "execution_count": 15,
   "metadata": {
    "collapsed": true
   },
   "outputs": [],
   "source": [
    "test_images, _ = extract_training_data_as_stacked(\"Data/20171029-201639.h264.avi\", \"Data/20171029-201639.h264.csv\", IMAGE_SIZE)\n",
    "\n",
    "prediction = model.predict(test_images)"
   ]
  },
  {
   "cell_type": "markdown",
   "metadata": {},
   "source": [
    "### Convolutional network results"
   ]
  },
  {
   "cell_type": "code",
   "execution_count": 16,
   "metadata": {},
   "outputs": [
    {
     "data": {
      "text/plain": [
       "array([[ 0.1407572 ,  0.16268922,  0.9218393 ],\n",
       "       [ 0.14913657,  0.18376924,  0.91827464],\n",
       "       [ 0.1533201 ,  0.20075783,  0.93527007],\n",
       "       ..., \n",
       "       [-0.01009087, -0.00982734,  0.98253912],\n",
       "       [ 0.08406697, -0.0448154 ,  0.97497928],\n",
       "       [-0.18870719,  0.05396052,  0.74136144]], dtype=float32)"
      ]
     },
     "execution_count": 16,
     "metadata": {},
     "output_type": "execute_result"
    }
   ],
   "source": [
    "prediction"
   ]
  },
  {
   "cell_type": "code",
   "execution_count": 21,
   "metadata": {},
   "outputs": [
    {
     "data": {
      "image/png": "[encoded data removed]",
      "text/plain": [
       "<matplotlib.figure.Figure at 0x1dbb3ca1f28>"
      ]
     },
     "metadata": {},
     "output_type": "display_data"
    }
   ],
   "source": [
    "plt.hist(prediction[:, 0])\n",
    "plt.show()"
   ]
  },
  {
   "cell_type": "code",
   "execution_count": 22,
   "metadata": {},
   "outputs": [
    {
     "data": {
      "image/png": "[encoded data removed]",
      "text/plain": [
       "<matplotlib.figure.Figure at 0x1dbb3cd0828>"
      ]
     },
     "metadata": {},
     "output_type": "display_data"
    }
   ],
   "source": [
    "plt.hist(prediction[:, 1])\n",
    "plt.show()"
   ]
  },
  {
   "cell_type": "code",
   "execution_count": 23,
   "metadata": {},
   "outputs": [
    {
     "data": {
      "image/png": "[encoded data removed]",
      "text/plain": [
       "<matplotlib.figure.Figure at 0x1dbb3d88320>"
      ]
     },
     "metadata": {},
     "output_type": "display_data"
    }
   ],
   "source": [
    "plt.hist(prediction[:, 2])\n",
    "plt.show()"
   ]
  }
 ],
 "metadata": {
  "kernelspec": {
   "display_name": "Python 3",
   "language": "python",
   "name": "python3"
  },
  "language_info": {
   "codemirror_mode": {
    "name": "ipython",
    "version": 3
   },
   "file_extension": ".py",
   "mimetype": "text/x-python",
   "name": "python",
   "nbconvert_exporter": "python",
   "pygments_lexer": "ipython3",
   "version": "3.6.1"
  }
 },
 "nbformat": 4,
 "nbformat_minor": 2
}
