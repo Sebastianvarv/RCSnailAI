{
 "cells": [
  {
   "cell_type": "markdown",
   "metadata": {},
   "source": [
    "Import stuff and initialize global parameters."
   ]
  },
  {
   "cell_type": "code",
   "execution_count": 2,
   "metadata": {},
   "outputs": [
    {
     "name": "stderr",
     "output_type": "stream",
     "text": [
      "Using TensorFlow backend.\n"
     ]
    }
   ],
   "source": [
    "import cv2\n",
    "import numpy as np\n",
    "import pandas as pd\n",
    "import matplotlib.pyplot as plt\n",
    "\n",
    "from keras.layers import Conv2D, Flatten, Dense, LSTM, \\\n",
    "    MaxPooling2D\n",
    "from keras.models import Sequential\n",
    "from common import extract_training_data_as_stacked\n",
    "from sklearn.metrics import explained_variance_score\n",
    "\n",
    "IMAGE_SIZE = (64, 64, 3)"
   ]
  },
  {
   "cell_type": "markdown",
   "metadata": {},
   "source": [
    "# Convolutional network\n",
    "Reading data as bundles and creating initial model."
   ]
  },
  {
   "cell_type": "code",
   "execution_count": 3,
   "metadata": {
    "collapsed": true
   },
   "outputs": [],
   "source": [
    "images, labels = extract_training_data_as_stacked(\"Data/20171029-201949.h264.avi\", \"Data/20171029-201949.h264.csv\", IMAGE_SIZE)"
   ]
  },
  {
   "cell_type": "code",
   "execution_count": 4,
   "metadata": {},
   "outputs": [
    {
     "data": {
      "text/plain": [
       "(1741, 3)"
      ]
     },
     "execution_count": 4,
     "metadata": {},
     "output_type": "execute_result"
    }
   ],
   "source": [
    "y_train = labels.as_matrix(columns=labels.columns[1: -1])\n",
    "y_train.shape"
   ]
  },
  {
   "cell_type": "code",
   "execution_count": 5,
   "metadata": {},
   "outputs": [
    {
     "name": "stdout",
     "output_type": "stream",
     "text": [
      "_________________________________________________________________\n",
      "Layer (type)                 Output Shape              Param #   \n",
      "=================================================================\n",
      "conv2d_1 (Conv2D)            (None, 62, 62, 32)        3488      \n",
      "_________________________________________________________________\n",
      "max_pooling2d_1 (MaxPooling2 (None, 31, 31, 32)        0         \n",
      "_________________________________________________________________\n",
      "flatten_1 (Flatten)          (None, 30752)             0         \n",
      "_________________________________________________________________\n",
      "dense_1 (Dense)              (None, 3)                 92259     \n",
      "=================================================================\n",
      "Total params: 95,747\n",
      "Trainable params: 95,747\n",
      "Non-trainable params: 0\n",
      "_________________________________________________________________\n"
     ]
    }
   ],
   "source": [
    "model = Sequential()\n",
    "model.add(Conv2D(32, (3, 3), kernel_initializer=\"he_normal\", activation='relu', input_shape=(64, 64, 12)))\n",
    "model.add(MaxPooling2D((2, 2)))\n",
    "model.add(Flatten())\n",
    "model.add(Dense(3, activation='linear'))\n",
    "\n",
    "model.compile(loss=\"mse\", optimizer=\"adam\")\n",
    "model.summary()"
   ]
  },
  {
   "cell_type": "code",
   "execution_count": 6,
   "metadata": {},
   "outputs": [
    {
     "name": "stdout",
     "output_type": "stream",
     "text": [
      "Train on 1671 samples, validate on 70 samples\n",
      "Epoch 1/10\n",
      "1671/1671 [==============================] - 7s - loss: 6.7819 - val_loss: 0.3299\n",
      "Epoch 2/10\n",
      "1671/1671 [==============================] - 8s - loss: 0.2000 - val_loss: 0.1649\n",
      "Epoch 3/10\n",
      "1671/1671 [==============================] - 9s - loss: 0.1058 - val_loss: 0.2088\n",
      "Epoch 4/10\n",
      "1671/1671 [==============================] - 9s - loss: 0.0896 - val_loss: 0.2149\n",
      "Epoch 5/10\n",
      "1671/1671 [==============================] - 8s - loss: 0.0795 - val_loss: 0.2273\n",
      "Epoch 6/10\n",
      "1671/1671 [==============================] - 9s - loss: 0.0710 - val_loss: 0.2282\n",
      "Epoch 7/10\n",
      "1671/1671 [==============================] - 9s - loss: 0.0633 - val_loss: 0.2377\n",
      "Epoch 8/10\n",
      "1671/1671 [==============================] - 8s - loss: 0.0545 - val_loss: 0.2529\n",
      "Epoch 9/10\n",
      "1671/1671 [==============================] - 8s - loss: 0.0483 - val_loss: 0.2694\n",
      "Epoch 10/10\n",
      "1671/1671 [==============================] - 8s - loss: 0.0410 - val_loss: 0.2904\n"
     ]
    }
   ],
   "source": [
    "history = model.fit(images, y_train, batch_size=64, epochs=10, validation_split=0.04)"
   ]
  },
  {
   "cell_type": "code",
   "execution_count": 30,
   "metadata": {
    "collapsed": true
   },
   "outputs": [],
   "source": [
    "test_images, test_labels = extract_training_data_as_stacked(\"Data/20171029-201639.h264.avi\", \n",
    "                                                            \"Data/20171029-201639.h264.csv\", \n",
    "                                                            IMAGE_SIZE)\n",
    "\n",
    "prediction = model.predict(test_images)"
   ]
  },
  {
   "cell_type": "markdown",
   "metadata": {},
   "source": [
    "### Convolutional network results\n",
    "Testing prediction printout and graphs."
   ]
  },
  {
   "cell_type": "code",
   "execution_count": 8,
   "metadata": {},
   "outputs": [
    {
     "data": {
      "text/plain": [
       "array([[ 0.21864463,  0.02655456,  1.005759  ],\n",
       "       [ 0.18681493,  0.00499805,  1.00749838],\n",
       "       [ 0.18856946,  0.0049597 ,  1.02159286],\n",
       "       ..., \n",
       "       [ 0.34349927,  0.01496859,  1.03512764],\n",
       "       [ 0.01777073, -0.08144344,  0.90272856],\n",
       "       [-0.28708765,  0.1121528 ,  1.11473846]], dtype=float32)"
      ]
     },
     "execution_count": 8,
     "metadata": {},
     "output_type": "execute_result"
    }
   ],
   "source": [
    "prediction"
   ]
  },
  {
   "cell_type": "code",
   "execution_count": 9,
   "metadata": {},
   "outputs": [
    {
     "data": {
      "image/png": "[encoded data removed]",
      "text/plain": [
       "<matplotlib.figure.Figure at 0x27a4247d860>"
      ]
     },
     "metadata": {},
     "output_type": "display_data"
    }
   ],
   "source": [
    "plt.hist(prediction[:, 0])\n",
    "plt.show()"
   ]
  },
  {
   "cell_type": "code",
   "execution_count": 10,
   "metadata": {},
   "outputs": [
    {
     "data": {
      "image/png": "[encoded data removed]",
      "text/plain": [
       "<matplotlib.figure.Figure at 0x27a425fb630>"
      ]
     },
     "metadata": {},
     "output_type": "display_data"
    }
   ],
   "source": [
    "plt.hist(prediction[:, 1])\n",
    "plt.show()"
   ]
  },
  {
   "cell_type": "code",
   "execution_count": 11,
   "metadata": {},
   "outputs": [
    {
     "data": {
      "image/png": "[encoded data removed]",
      "text/plain": [
       "<matplotlib.figure.Figure at 0x27a42571128>"
      ]
     },
     "metadata": {},
     "output_type": "display_data"
    }
   ],
   "source": [
    "plt.hist(prediction[:, 2])\n",
    "plt.show()"
   ]
  },
  {
   "cell_type": "markdown",
   "metadata": {},
   "source": [
    "### Result analysis\n",
    "Explained variance etc.\n",
    "\n",
    "Firstly clip incorrect values back into known bounds. Afterwards find the explained variance."
   ]
  },
  {
   "cell_type": "code",
   "execution_count": 31,
   "metadata": {},
   "outputs": [
    {
     "name": "stdout",
     "output_type": "stream",
     "text": [
      "[ 0.21864463  0.18681493  0.18856946  0.19024463  0.18430677  0.19156505\n",
      "  0.18660919  0.19166493  0.23462623  0.19878     0.17873344  0.43730971\n",
      "  0.06422947 -0.11992168  0.14410791  0.00439221  0.18648723  0.29265249\n",
      "  0.31178221  0.20852579  0.29280844  0.24020918  0.15861306  0.15600368\n",
      "  0.39149013  0.61925828  0.60499877  0.91624701  0.71996439  0.51990712\n",
      "  0.25518575  0.03253121  0.23090915  0.10358184  0.12748857 -0.13092569\n",
      " -0.30360559 -0.16781302 -0.67759883 -0.72821099 -1.08396661 -0.88401771\n",
      " -0.81486088 -0.3746244   0.20741065  0.03804578 -0.0019927  -0.11461996\n",
      " -0.1182818  -0.02466636  0.55106574  0.51890546  0.67341781  0.57672763\n",
      "  0.87096763  0.53444427  0.50470006  0.5093649   0.29584026  0.21450455\n",
      "  0.09141647  0.19408111  0.24916585  0.20831183  0.19493003  0.31160557\n",
      "  0.07134725 -0.61062682 -0.76871437 -0.4484857  -0.48163536 -0.32095668\n",
      " -0.23773791  0.18772069  0.29154745  0.19573073 -0.27802229  0.00457031\n",
      " -0.12032877  0.07828569  0.19270962  0.32358986  0.70672619  0.84691006\n",
      "  0.99417156  0.91721517  0.64795041  0.64068848  0.46616569  0.3892161\n",
      "  0.21919934 -0.01802084 -0.20221879  0.01959394  0.03076504  0.46630231\n",
      "  0.2996397   0.27402434  0.02637314 -0.13869208 -0.36561877 -0.73336542\n",
      " -0.84270239 -0.77979124 -0.25871801 -0.57943964 -0.52948827 -0.27173048\n",
      " -0.02593629  0.01256426  0.05260397  0.00371596  0.14874738  0.15495163\n",
      "  0.14721315  0.16215672  0.50387573  0.83033037  0.82448131  0.84889895\n",
      "  1.0295552   0.82105494  0.66331661  0.52680409  0.38409716  0.19307947\n",
      "  0.15575135  0.20467944  0.1775125   0.187399    0.1381131   0.15313132\n",
      "  0.02559689  0.30446324 -0.09131666  0.15155809  0.28828755  0.1854025\n",
      "  0.26939356  0.30726114  0.27730462  0.32886142  0.10393985  0.27194685\n",
      "  0.31242734  0.53978467  0.59959686  0.75897515  0.93753099  0.75374663\n",
      "  0.68303078 -0.0577597   0.11769152  0.12451368  0.22302799  0.14420538\n",
      "  0.07870744 -0.16579801 -0.14544313 -0.04185503 -0.02140145  0.12832454\n",
      "  0.13580063 -0.00328844  0.00264644  0.09911712  0.11616322  0.03725369\n",
      " -0.12491226 -0.29691401 -0.38967264 -0.45420516 -0.72037983 -0.64733273\n",
      " -0.7197544  -0.45408383 -0.41910043 -0.07820669  0.08176567  0.36958945\n",
      "  0.2373153   0.10478958 -0.0794566   0.23406272  0.89775902  0.53701419\n",
      "  0.63967168  0.68638784  1.01177371  0.79841965  0.59073478  0.54322624\n",
      "  0.16161184  0.24620001  0.10850145  0.17225946  0.19644932  0.34305361\n",
      "  0.41757903  0.41770101  0.14872426 -0.19957681 -0.70610994 -0.55141324\n",
      " -0.46630725 -0.3629612  -0.20019585  0.12154856  0.14701723  0.15462649\n",
      "  0.22004138  0.18783133  0.3261835   0.16062354  0.28556046  0.35313144\n",
      "  0.70830333  0.57241625  0.8796916   0.77213633  0.75200319  0.48284563\n",
      "  0.55448538  0.53942978  0.27963522 -0.15410605 -0.30415183 -0.30658463\n",
      "  0.16452335  0.40591848  0.26461416  0.15846471 -0.24643689 -0.36370364\n",
      " -0.53811985 -0.5773654  -0.37245089  0.0415818  -0.4864414  -0.41393161\n",
      " -0.2095954   0.12134358 -0.005777    0.22994053  0.26795813  0.03373225\n",
      "  0.04733079 -0.0245268  -0.06523008  0.05178936  0.37487105  0.9104116\n",
      "  0.76984727  0.97563112  0.98702478  0.88433969  0.67862654  0.75208014\n",
      "  0.56529409  0.45418414  0.12684897  0.12126937  0.20767254  0.25068551\n",
      "  0.21430808  0.03638467  0.09830817  0.18833183  0.28572398 -0.07387711\n",
      " -0.11151498  0.15217881  0.27717763  0.29916605  0.28876761  0.25836569\n",
      "  0.20753005  0.02132616  0.08956213  0.28100124  0.52575701  0.79607236\n",
      "  0.89349306  1.01246107  0.67728102  0.59749192  0.30962494  0.2616246\n",
      "  0.16044892  0.19638136 -0.19344214 -0.05123506 -0.01483353 -0.14931954\n",
      " -0.25287992 -0.4394573  -0.76792657 -1.02240765 -0.68904358 -0.33370057\n",
      " -0.67419553  0.09683321  0.22350381  0.32790196  0.13322091  0.0803554\n",
      " -0.13959572 -0.12208236 -0.02262034  0.62422699  0.80643493  0.43777984\n",
      "  0.62537467  0.70189869  0.96611202  0.87651563  0.62507045  0.61859739\n",
      "  0.49427861  0.20193282  0.22569527  0.13607672  0.29048783  0.42687488\n",
      "  0.1142177   0.45387709  0.13461322 -0.33481765 -0.637164   -0.83136863\n",
      " -0.60677481 -0.39012894 -0.08050726  0.35489795  0.44794539  0.12854515\n",
      "  0.19665104 -0.04896301  0.13461487  0.02987003  0.38277385  0.46674713\n",
      "  0.62162226  0.76837856  0.73685735  0.85015249  0.56919265  0.51798016\n",
      "  0.32025117  0.13324106 -0.32232055 -0.44459194 -0.15054786 -0.09301353\n",
      "  0.13693407  0.30631867  0.36838219  0.03249267 -0.43061155 -0.7551176\n",
      " -0.76138288 -0.65068817 -0.42906946 -0.13165933 -0.32440776 -0.21395028\n",
      "  0.3094722  -0.21334225 -0.05738627 -0.28956735 -0.24010125 -0.02783072\n",
      " -0.15425231  0.17960541  0.31444743  0.13301228 -0.01190419  0.14771299\n",
      "  0.28340751  0.77934551  0.83818936  0.90969014  0.69694632  0.64731735\n",
      "  0.57425737  0.42863777  0.16923621  0.19586286  0.17314462  0.22711638\n",
      "  0.16781697  0.02737297  0.05170091 -0.01796345  0.23562813 -0.1588621\n",
      " -0.06022808  0.12603799  0.03795572  0.19746952  0.25363564  0.22814097\n",
      "  0.11130299  0.07744562 -0.03391663  0.24645434  0.47129247  0.546637\n",
      "  0.88708335  0.93516248  0.63295668  0.83087862  0.58459604  0.3301923\n",
      "  0.13280863 -0.17044531 -0.28383601 -0.12551869  0.00497048 -0.35285416\n",
      " -0.53997207 -0.40961361 -0.79991102 -0.83023    -0.3883636  -0.14544255\n",
      "  0.35288048  0.3030223   0.29179579  0.05456045  0.09518198 -0.13441387\n",
      "  0.1733298   0.63388526  0.71103293  0.67648405  0.60080224  0.44377321\n",
      "  0.93959403  1.06018317  0.73842889  0.52796459  0.14502797  0.12993039\n",
      "  0.15435588  0.10657459  0.19611031  0.42867556  0.09099808  0.59200019\n",
      "  0.01039164 -0.33139738 -0.69919515 -0.84326792 -0.45192286 -0.34698284\n",
      " -0.09623592  0.15507114  0.39417267  0.23282143  0.00155892  0.02071173\n",
      "  0.22179261  0.15779209  0.36335692  0.70238537  0.75211561  0.95903379\n",
      "  0.84211642  0.70012635  0.48357475  0.56406295  0.35455558 -0.36842608\n",
      " -0.50290596 -0.38263032 -0.22288229 -0.24871671  0.27446818  0.3927432\n",
      "  0.34197819 -0.06161798 -0.23111327 -0.42004851 -0.2843512  -0.51157606\n",
      " -0.37748802 -0.47226441 -0.84189016 -0.33587366  0.04416252  0.2095878\n",
      "  0.08635473  0.02194188  0.01922363  0.13907225 -0.02228215  0.12018113\n",
      "  0.22676529  0.72920018  0.8834908   0.69361037  0.636608    0.71656692\n",
      "  0.6678344   0.50908482  0.65034676  0.34899628  0.3606548   0.03166052\n",
      " -0.07426758 -0.0320388   0.22250511  0.16447809 -0.11999385  0.00185398\n",
      " -0.05678753  0.1043837  -0.08430961 -0.06660757  0.10354867  0.2177134\n",
      "  0.20883745  0.16924563  0.19723198  0.08783089  0.0549625   0.08600074\n",
      "  0.41994464  0.40356821  0.59648758  0.95999843  0.74376935  0.46410361\n",
      "  0.74770713  0.44190326  0.32186946  0.53369367  0.16643241 -0.10899511\n",
      "  0.00308518 -0.02681998 -0.29694524 -0.39532685 -0.43237421 -0.99586087\n",
      " -0.89840376 -0.53291577 -0.50768387  0.11011139 -0.00754876  0.03289185\n",
      " -0.15940212 -0.3554863  -0.04182695  0.58094126  0.55685771  0.56166923\n",
      "  0.39865202  0.60364014  0.55077368  0.65673792  0.6636523   0.49480987\n",
      "  0.4716984   0.26079151  0.25888675  0.11060354  0.06032627  0.05628516\n",
      "  0.29207522  0.37845922  0.13524935  0.20490208  0.40088433 -0.12953927\n",
      " -0.35246202 -0.5372647  -0.53617537 -0.53938675 -0.20250215 -0.0254006\n",
      "  0.33254111  0.23425707  0.21255194  0.19316435  0.19460174  0.13837373\n",
      "  0.22390987  0.36985961  0.35615849  0.53587025  0.62797034  0.88963902\n",
      "  0.95019031  0.72096777  0.60129231  0.35013288  0.08356342 -0.33276403\n",
      " -0.37618744 -0.26117826 -0.32644945  0.22761874  0.45986345  0.34326699\n",
      " -0.03758271 -0.08169224 -0.2926259  -0.6071021  -0.54365557 -0.41328454\n",
      " -0.2185486  -0.31117734 -0.1979095   0.12829266  0.13892519  0.30848914\n",
      "  0.11636622  0.20935649  0.02881908  0.15973748 -0.08285128  0.25407174\n",
      "  0.32070187  0.45338488  0.66190195  0.74976653  0.83257592  0.83312905\n",
      "  0.70883489  0.57567102  0.39355677  0.24191673  0.10651615  0.18989161\n",
      "  0.20181097  0.2800945   0.23919517  0.16314827  0.07378364 -0.04380246\n",
      "  0.11771956  0.13984481  0.23924384  0.14481831  0.36641243  0.20246808\n",
      "  0.11460345  0.21774811  0.23852469  0.17461778  0.03397969  0.13808267\n",
      "  0.30379832  0.43278998  0.85617632  1.10488057  0.54236937  0.60879201\n",
      "  0.5047816   0.55740315  0.39923802  0.26215735  0.12107688 -0.08886653\n",
      " -0.06588093 -0.43366751 -0.27799961 -0.43437031 -0.56518221 -1.08039534\n",
      " -0.71196789 -0.74713731 -0.3555136   0.05660793  0.18594491  0.20162335\n",
      " -0.01471519 -0.11917765 -0.03741354  0.69384646  0.80221701  0.68522799\n",
      "  0.67382473  0.8065654   1.0288564   0.78853697  0.58181226  0.37748155\n",
      "  0.23141311  0.15313315 -0.02431709  0.05097095  0.33740678  0.42872939\n",
      "  0.5319733   0.34778428  0.05128527 -0.50646508 -0.57091093 -0.64475667\n",
      " -0.66746944 -0.47422585 -0.06418318  0.19710743  0.31651014  0.29866365\n",
      "  0.1464638   0.00788667 -0.03874085  0.39087927  0.29617006  0.58014548\n",
      "  0.58718628  0.74521911  0.75854051  0.90151012  0.71298349  0.36844298\n",
      "  0.26405165 -0.01750943 -0.36841419 -0.55969876 -0.5818342  -0.35297796\n",
      "  0.25276333  0.31219894  0.24034703  0.04889243 -0.27184749 -0.52625352\n",
      " -0.37751633 -0.39494881 -0.2994886  -0.38024366 -0.66810298 -0.12949766\n",
      " -0.13056663  0.24037611  0.13903129  0.08776455  0.09579181  0.05962074\n",
      "  0.12741444 -0.07965717  0.00299753  0.06260793  0.33105782  0.54342824\n",
      "  0.66885841  0.73908287  0.75273186  0.58483517  0.73757786  0.47847861\n",
      "  0.67496437  0.52808362  0.26029512  0.1316583   0.11549739  0.17399007\n",
      "  0.20614238  0.006966    0.04419878  0.07641157  0.02791425  0.13671662\n",
      "  0.03851482 -0.1334139  -0.07884756  0.22503243  0.16455832  0.34624347\n",
      "  0.30719182  0.26428208  0.21738589  0.19742209  0.27578166  0.49387637\n",
      "  0.54853737  0.8436988   0.71543145  0.74883586  0.68900335  0.52612484\n",
      "  0.21160731  0.24552238  0.07676952 -0.12098303 -0.19234498 -0.11393031\n",
      " -0.49789536 -0.25766575 -0.60725522 -0.74870431 -0.67484385 -0.63733494\n",
      " -0.49810767 -0.66074693 -0.15743177  0.07835019  0.0221541  -0.06785928\n",
      " -0.11206999 -0.16302244  0.0447945   0.16824248  0.69920021  0.84468228\n",
      "  0.70049071  0.52259541  0.70400286  0.98991692  0.70652771  0.72409099\n",
      "  0.58786321  0.2627762   0.30251089  0.20258279  0.1909111   0.33784142\n",
      "  0.39509317 -0.05340332  0.21947989 -0.09543642 -0.18031979 -0.62048149\n",
      " -0.4838253  -0.60100925 -0.36605954 -0.08299109  0.29067543  0.21527772\n",
      "  0.27035972  0.06276251  0.02787314 -0.27450418 -0.00693962  0.26864681\n",
      "  0.37963584  0.38226974  0.65521944  0.74962121  0.80608332  0.80831701\n",
      "  0.53780997  0.65699536  0.07620834 -0.16694197 -0.40715775 -0.42929977\n",
      " -0.48355216 -0.02822514  0.1422902   0.30689463  0.19632901 -0.1339495\n",
      " -0.15859841 -0.39719373 -0.64799052 -0.67505628 -0.44191951 -0.11854739\n",
      " -0.48241934 -0.56618375 -0.20315167  0.00867481  0.07172177  0.13940734\n",
      "  0.13077968  0.06073629  0.00588322 -0.0474455   0.35763538  0.52034259\n",
      "  0.62587309  0.81466174  0.72802073  0.59006178  0.59900266  0.36084038\n",
      " -0.04988493 -0.01599095 -0.19017854 -0.30705523 -0.19638853 -0.13205941\n",
      " -0.1703828  -0.07542504 -0.10276676 -0.07327738 -0.06872585  0.04365519\n",
      " -0.10524808  0.07741783  0.09058843  0.13492037  0.17082034  0.16798957\n",
      "  0.23682617  0.05947982  0.18828651  0.46445882  0.59626734  0.7648589\n",
      "  0.8537944   0.68996149  0.71747863  0.37577388  0.22061233  0.23202091\n",
      "  0.27133909  0.10134202  0.13719437 -0.06711175 -0.16815855 -0.30487618\n",
      " -0.27353126 -0.09594175 -0.21276647 -0.66977555 -0.57984674 -0.26164633\n",
      " -0.46115574 -0.6935066  -0.44462183 -0.70368582 -0.5246321  -0.59294677\n",
      "  0.16947359  0.28994924  0.42439172  0.32174432  0.21440615  0.39804989\n",
      "  0.34349927  0.01777073 -0.28708765]\n",
      "[ 0.21864463  0.18681493  0.18856946  0.19024463  0.18430677  0.19156505\n",
      "  0.18660919  0.19166493  0.23462623  0.19878     0.17873344  0.43730971\n",
      "  0.06422947 -0.11992168  0.14410791  0.00439221  0.18648723  0.29265249\n",
      "  0.31178221  0.20852579  0.29280844  0.24020918  0.15861306  0.15600368\n",
      "  0.39149013  0.61925828  0.60499877  0.91624701  0.71996439  0.51990712\n",
      "  0.25518575  0.03253121  0.23090915  0.10358184  0.12748857 -0.13092569\n",
      " -0.30360559 -0.16781302 -0.67759883 -0.72821099 -1.         -0.88401771\n",
      " -0.81486088 -0.3746244   0.20741065  0.03804578 -0.0019927  -0.11461996\n",
      " -0.1182818  -0.02466636  0.55106574  0.51890546  0.67341781  0.57672763\n",
      "  0.87096763  0.53444427  0.50470006  0.5093649   0.29584026  0.21450455\n",
      "  0.09141647  0.19408111  0.24916585  0.20831183  0.19493003  0.31160557\n",
      "  0.07134725 -0.61062682 -0.76871437 -0.4484857  -0.48163536 -0.32095668\n",
      " -0.23773791  0.18772069  0.29154745  0.19573073 -0.27802229  0.00457031\n",
      " -0.12032877  0.07828569  0.19270962  0.32358986  0.70672619  0.84691006\n",
      "  0.99417156  0.91721517  0.64795041  0.64068848  0.46616569  0.3892161\n",
      "  0.21919934 -0.01802084 -0.20221879  0.01959394  0.03076504  0.46630231\n",
      "  0.2996397   0.27402434  0.02637314 -0.13869208 -0.36561877 -0.73336542\n",
      " -0.84270239 -0.77979124 -0.25871801 -0.57943964 -0.52948827 -0.27173048\n",
      " -0.02593629  0.01256426  0.05260397  0.00371596  0.14874738  0.15495163\n",
      "  0.14721315  0.16215672  0.50387573  0.83033037  0.82448131  0.84889895\n",
      "  1.          0.82105494  0.66331661  0.52680409  0.38409716  0.19307947\n",
      "  0.15575135  0.20467944  0.1775125   0.187399    0.1381131   0.15313132\n",
      "  0.02559689  0.30446324 -0.09131666  0.15155809  0.28828755  0.1854025\n",
      "  0.26939356  0.30726114  0.27730462  0.32886142  0.10393985  0.27194685\n",
      "  0.31242734  0.53978467  0.59959686  0.75897515  0.93753099  0.75374663\n",
      "  0.68303078 -0.0577597   0.11769152  0.12451368  0.22302799  0.14420538\n",
      "  0.07870744 -0.16579801 -0.14544313 -0.04185503 -0.02140145  0.12832454\n",
      "  0.13580063 -0.00328844  0.00264644  0.09911712  0.11616322  0.03725369\n",
      " -0.12491226 -0.29691401 -0.38967264 -0.45420516 -0.72037983 -0.64733273\n",
      " -0.7197544  -0.45408383 -0.41910043 -0.07820669  0.08176567  0.36958945\n",
      "  0.2373153   0.10478958 -0.0794566   0.23406272  0.89775902  0.53701419\n",
      "  0.63967168  0.68638784  1.          0.79841965  0.59073478  0.54322624\n",
      "  0.16161184  0.24620001  0.10850145  0.17225946  0.19644932  0.34305361\n",
      "  0.41757903  0.41770101  0.14872426 -0.19957681 -0.70610994 -0.55141324\n",
      " -0.46630725 -0.3629612  -0.20019585  0.12154856  0.14701723  0.15462649\n",
      "  0.22004138  0.18783133  0.3261835   0.16062354  0.28556046  0.35313144\n",
      "  0.70830333  0.57241625  0.8796916   0.77213633  0.75200319  0.48284563\n",
      "  0.55448538  0.53942978  0.27963522 -0.15410605 -0.30415183 -0.30658463\n",
      "  0.16452335  0.40591848  0.26461416  0.15846471 -0.24643689 -0.36370364\n",
      " -0.53811985 -0.5773654  -0.37245089  0.0415818  -0.4864414  -0.41393161\n",
      " -0.2095954   0.12134358 -0.005777    0.22994053  0.26795813  0.03373225\n",
      "  0.04733079 -0.0245268  -0.06523008  0.05178936  0.37487105  0.9104116\n",
      "  0.76984727  0.97563112  0.98702478  0.88433969  0.67862654  0.75208014\n",
      "  0.56529409  0.45418414  0.12684897  0.12126937  0.20767254  0.25068551\n",
      "  0.21430808  0.03638467  0.09830817  0.18833183  0.28572398 -0.07387711\n",
      " -0.11151498  0.15217881  0.27717763  0.29916605  0.28876761  0.25836569\n",
      "  0.20753005  0.02132616  0.08956213  0.28100124  0.52575701  0.79607236\n",
      "  0.89349306  1.          0.67728102  0.59749192  0.30962494  0.2616246\n",
      "  0.16044892  0.19638136 -0.19344214 -0.05123506 -0.01483353 -0.14931954\n",
      " -0.25287992 -0.4394573  -0.76792657 -1.         -0.68904358 -0.33370057\n",
      " -0.67419553  0.09683321  0.22350381  0.32790196  0.13322091  0.0803554\n",
      " -0.13959572 -0.12208236 -0.02262034  0.62422699  0.80643493  0.43777984\n",
      "  0.62537467  0.70189869  0.96611202  0.87651563  0.62507045  0.61859739\n",
      "  0.49427861  0.20193282  0.22569527  0.13607672  0.29048783  0.42687488\n",
      "  0.1142177   0.45387709  0.13461322 -0.33481765 -0.637164   -0.83136863\n",
      " -0.60677481 -0.39012894 -0.08050726  0.35489795  0.44794539  0.12854515\n",
      "  0.19665104 -0.04896301  0.13461487  0.02987003  0.38277385  0.46674713\n",
      "  0.62162226  0.76837856  0.73685735  0.85015249  0.56919265  0.51798016\n",
      "  0.32025117  0.13324106 -0.32232055 -0.44459194 -0.15054786 -0.09301353\n",
      "  0.13693407  0.30631867  0.36838219  0.03249267 -0.43061155 -0.7551176\n",
      " -0.76138288 -0.65068817 -0.42906946 -0.13165933 -0.32440776 -0.21395028\n",
      "  0.3094722  -0.21334225 -0.05738627 -0.28956735 -0.24010125 -0.02783072\n",
      " -0.15425231  0.17960541  0.31444743  0.13301228 -0.01190419  0.14771299\n",
      "  0.28340751  0.77934551  0.83818936  0.90969014  0.69694632  0.64731735\n",
      "  0.57425737  0.42863777  0.16923621  0.19586286  0.17314462  0.22711638\n",
      "  0.16781697  0.02737297  0.05170091 -0.01796345  0.23562813 -0.1588621\n",
      " -0.06022808  0.12603799  0.03795572  0.19746952  0.25363564  0.22814097\n",
      "  0.11130299  0.07744562 -0.03391663  0.24645434  0.47129247  0.546637\n",
      "  0.88708335  0.93516248  0.63295668  0.83087862  0.58459604  0.3301923\n",
      "  0.13280863 -0.17044531 -0.28383601 -0.12551869  0.00497048 -0.35285416\n",
      " -0.53997207 -0.40961361 -0.79991102 -0.83023    -0.3883636  -0.14544255\n",
      "  0.35288048  0.3030223   0.29179579  0.05456045  0.09518198 -0.13441387\n",
      "  0.1733298   0.63388526  0.71103293  0.67648405  0.60080224  0.44377321\n",
      "  0.93959403  1.          0.73842889  0.52796459  0.14502797  0.12993039\n",
      "  0.15435588  0.10657459  0.19611031  0.42867556  0.09099808  0.59200019\n",
      "  0.01039164 -0.33139738 -0.69919515 -0.84326792 -0.45192286 -0.34698284\n",
      " -0.09623592  0.15507114  0.39417267  0.23282143  0.00155892  0.02071173\n",
      "  0.22179261  0.15779209  0.36335692  0.70238537  0.75211561  0.95903379\n",
      "  0.84211642  0.70012635  0.48357475  0.56406295  0.35455558 -0.36842608\n",
      " -0.50290596 -0.38263032 -0.22288229 -0.24871671  0.27446818  0.3927432\n",
      "  0.34197819 -0.06161798 -0.23111327 -0.42004851 -0.2843512  -0.51157606\n",
      " -0.37748802 -0.47226441 -0.84189016 -0.33587366  0.04416252  0.2095878\n",
      "  0.08635473  0.02194188  0.01922363  0.13907225 -0.02228215  0.12018113\n",
      "  0.22676529  0.72920018  0.8834908   0.69361037  0.636608    0.71656692\n",
      "  0.6678344   0.50908482  0.65034676  0.34899628  0.3606548   0.03166052\n",
      " -0.07426758 -0.0320388   0.22250511  0.16447809 -0.11999385  0.00185398\n",
      " -0.05678753  0.1043837  -0.08430961 -0.06660757  0.10354867  0.2177134\n",
      "  0.20883745  0.16924563  0.19723198  0.08783089  0.0549625   0.08600074\n",
      "  0.41994464  0.40356821  0.59648758  0.95999843  0.74376935  0.46410361\n",
      "  0.74770713  0.44190326  0.32186946  0.53369367  0.16643241 -0.10899511\n",
      "  0.00308518 -0.02681998 -0.29694524 -0.39532685 -0.43237421 -0.99586087\n",
      " -0.89840376 -0.53291577 -0.50768387  0.11011139 -0.00754876  0.03289185\n",
      " -0.15940212 -0.3554863  -0.04182695  0.58094126  0.55685771  0.56166923\n",
      "  0.39865202  0.60364014  0.55077368  0.65673792  0.6636523   0.49480987\n",
      "  0.4716984   0.26079151  0.25888675  0.11060354  0.06032627  0.05628516\n",
      "  0.29207522  0.37845922  0.13524935  0.20490208  0.40088433 -0.12953927\n",
      " -0.35246202 -0.5372647  -0.53617537 -0.53938675 -0.20250215 -0.0254006\n",
      "  0.33254111  0.23425707  0.21255194  0.19316435  0.19460174  0.13837373\n",
      "  0.22390987  0.36985961  0.35615849  0.53587025  0.62797034  0.88963902\n",
      "  0.95019031  0.72096777  0.60129231  0.35013288  0.08356342 -0.33276403\n",
      " -0.37618744 -0.26117826 -0.32644945  0.22761874  0.45986345  0.34326699\n",
      " -0.03758271 -0.08169224 -0.2926259  -0.6071021  -0.54365557 -0.41328454\n",
      " -0.2185486  -0.31117734 -0.1979095   0.12829266  0.13892519  0.30848914\n",
      "  0.11636622  0.20935649  0.02881908  0.15973748 -0.08285128  0.25407174\n",
      "  0.32070187  0.45338488  0.66190195  0.74976653  0.83257592  0.83312905\n",
      "  0.70883489  0.57567102  0.39355677  0.24191673  0.10651615  0.18989161\n",
      "  0.20181097  0.2800945   0.23919517  0.16314827  0.07378364 -0.04380246\n",
      "  0.11771956  0.13984481  0.23924384  0.14481831  0.36641243  0.20246808\n",
      "  0.11460345  0.21774811  0.23852469  0.17461778  0.03397969  0.13808267\n",
      "  0.30379832  0.43278998  0.85617632  1.          0.54236937  0.60879201\n",
      "  0.5047816   0.55740315  0.39923802  0.26215735  0.12107688 -0.08886653\n",
      " -0.06588093 -0.43366751 -0.27799961 -0.43437031 -0.56518221 -1.\n",
      " -0.71196789 -0.74713731 -0.3555136   0.05660793  0.18594491  0.20162335\n",
      " -0.01471519 -0.11917765 -0.03741354  0.69384646  0.80221701  0.68522799\n",
      "  0.67382473  0.8065654   1.          0.78853697  0.58181226  0.37748155\n",
      "  0.23141311  0.15313315 -0.02431709  0.05097095  0.33740678  0.42872939\n",
      "  0.5319733   0.34778428  0.05128527 -0.50646508 -0.57091093 -0.64475667\n",
      " -0.66746944 -0.47422585 -0.06418318  0.19710743  0.31651014  0.29866365\n",
      "  0.1464638   0.00788667 -0.03874085  0.39087927  0.29617006  0.58014548\n",
      "  0.58718628  0.74521911  0.75854051  0.90151012  0.71298349  0.36844298\n",
      "  0.26405165 -0.01750943 -0.36841419 -0.55969876 -0.5818342  -0.35297796\n",
      "  0.25276333  0.31219894  0.24034703  0.04889243 -0.27184749 -0.52625352\n",
      " -0.37751633 -0.39494881 -0.2994886  -0.38024366 -0.66810298 -0.12949766\n",
      " -0.13056663  0.24037611  0.13903129  0.08776455  0.09579181  0.05962074\n",
      "  0.12741444 -0.07965717  0.00299753  0.06260793  0.33105782  0.54342824\n",
      "  0.66885841  0.73908287  0.75273186  0.58483517  0.73757786  0.47847861\n",
      "  0.67496437  0.52808362  0.26029512  0.1316583   0.11549739  0.17399007\n",
      "  0.20614238  0.006966    0.04419878  0.07641157  0.02791425  0.13671662\n",
      "  0.03851482 -0.1334139  -0.07884756  0.22503243  0.16455832  0.34624347\n",
      "  0.30719182  0.26428208  0.21738589  0.19742209  0.27578166  0.49387637\n",
      "  0.54853737  0.8436988   0.71543145  0.74883586  0.68900335  0.52612484\n",
      "  0.21160731  0.24552238  0.07676952 -0.12098303 -0.19234498 -0.11393031\n",
      " -0.49789536 -0.25766575 -0.60725522 -0.74870431 -0.67484385 -0.63733494\n",
      " -0.49810767 -0.66074693 -0.15743177  0.07835019  0.0221541  -0.06785928\n",
      " -0.11206999 -0.16302244  0.0447945   0.16824248  0.69920021  0.84468228\n",
      "  0.70049071  0.52259541  0.70400286  0.98991692  0.70652771  0.72409099\n",
      "  0.58786321  0.2627762   0.30251089  0.20258279  0.1909111   0.33784142\n",
      "  0.39509317 -0.05340332  0.21947989 -0.09543642 -0.18031979 -0.62048149\n",
      " -0.4838253  -0.60100925 -0.36605954 -0.08299109  0.29067543  0.21527772\n",
      "  0.27035972  0.06276251  0.02787314 -0.27450418 -0.00693962  0.26864681\n",
      "  0.37963584  0.38226974  0.65521944  0.74962121  0.80608332  0.80831701\n",
      "  0.53780997  0.65699536  0.07620834 -0.16694197 -0.40715775 -0.42929977\n",
      " -0.48355216 -0.02822514  0.1422902   0.30689463  0.19632901 -0.1339495\n",
      " -0.15859841 -0.39719373 -0.64799052 -0.67505628 -0.44191951 -0.11854739\n",
      " -0.48241934 -0.56618375 -0.20315167  0.00867481  0.07172177  0.13940734\n",
      "  0.13077968  0.06073629  0.00588322 -0.0474455   0.35763538  0.52034259\n",
      "  0.62587309  0.81466174  0.72802073  0.59006178  0.59900266  0.36084038\n",
      " -0.04988493 -0.01599095 -0.19017854 -0.30705523 -0.19638853 -0.13205941\n",
      " -0.1703828  -0.07542504 -0.10276676 -0.07327738 -0.06872585  0.04365519\n",
      " -0.10524808  0.07741783  0.09058843  0.13492037  0.17082034  0.16798957\n",
      "  0.23682617  0.05947982  0.18828651  0.46445882  0.59626734  0.7648589\n",
      "  0.8537944   0.68996149  0.71747863  0.37577388  0.22061233  0.23202091\n",
      "  0.27133909  0.10134202  0.13719437 -0.06711175 -0.16815855 -0.30487618\n",
      " -0.27353126 -0.09594175 -0.21276647 -0.66977555 -0.57984674 -0.26164633\n",
      " -0.46115574 -0.6935066  -0.44462183 -0.70368582 -0.5246321  -0.59294677\n",
      "  0.16947359  0.28994924  0.42439172  0.32174432  0.21440615  0.39804989\n",
      "  0.34349927  0.01777073 -0.28708765]\n",
      "(939, 3)\n",
      "(939, 3)\n"
     ]
    }
   ],
   "source": [
    "validation_labels = test_labels.as_matrix(columns=test_labels.columns[1: -1])\n",
    "clipped_prediction = np.zeros_like(prediction)\n",
    "\n",
    "clipped_prediction[:, 0] = np.clip(prediction[:, 0], -1, 1)\n",
    "clipped_prediction[:, 1] = np.clip(prediction[:, 1], 0, 1)\n",
    "clipped_prediction[:, 2] = np.clip(prediction[:, 2], None, 1)\n",
    "\n",
    "print(validation_labels.shape)\n",
    "print(clipped_prediction.shape)"
   ]
  },
  {
   "cell_type": "code",
   "execution_count": 32,
   "metadata": {},
   "outputs": [
    {
     "data": {
      "text/plain": [
       "0.043267034740954245"
      ]
     },
     "execution_count": 32,
     "metadata": {},
     "output_type": "execute_result"
    }
   ],
   "source": [
    "explained_variance_score(validation_labels, clipped_prediction)"
   ]
  }
 ],
 "metadata": {
  "kernelspec": {
   "display_name": "Python 3",
   "language": "python",
   "name": "python3"
  },
  "language_info": {
   "codemirror_mode": {
    "name": "ipython",
    "version": 3
   },
   "file_extension": ".py",
   "mimetype": "text/x-python",
   "name": "python",
   "nbconvert_exporter": "python",
   "pygments_lexer": "ipython3",
   "version": "3.6.1"
  }
 },
 "nbformat": 4,
 "nbformat_minor": 2
}
