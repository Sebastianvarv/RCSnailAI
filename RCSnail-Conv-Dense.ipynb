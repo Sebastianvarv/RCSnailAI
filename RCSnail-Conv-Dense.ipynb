{
 "cells": [
  {
   "cell_type": "markdown",
   "metadata": {},
   "source": [
    "Import stuff and initialize global parameters."
   ]
  },
  {
   "cell_type": "code",
   "execution_count": 1,
   "metadata": {},
   "outputs": [
    {
     "name": "stderr",
     "output_type": "stream",
     "text": [
      "Using TensorFlow backend.\n"
     ]
    }
   ],
   "source": [
    "import cv2\n",
    "import numpy as np\n",
    "import pandas as pd\n",
    "import matplotlib.pyplot as plt\n",
    "\n",
    "from keras.layers import Conv2D, Flatten, Dense, LSTM, \\\n",
    "    MaxPooling2D\n",
    "from keras.models import Sequential\n",
    "from common import extract_training_data_as_stacked, generate_multifile_conc, random_file_gen\n",
    "from sklearn.metrics import explained_variance_score\n",
    "\n",
    "IMAGE_SIZE = (64, 64, 3)"
   ]
  },
  {
   "cell_type": "code",
   "execution_count": 103,
   "metadata": {
    "collapsed": true
   },
   "outputs": [],
   "source": [
    "images, labels = extract_training_data_as_stacked(\"Data/20171211-185037299.h264\", \n",
    "                                                  \"Data/20171211-185037299.csv\", \n",
    "                                                  IMAGE_SIZE)"
   ]
  },
  {
   "cell_type": "code",
   "execution_count": 7,
   "metadata": {
    "collapsed": true
   },
   "outputs": [],
   "source": [
    "video_names = [\"20171211-182708258.h264\",\n",
    "               \"20171211-183607508.h264\",\n",
    "               \"20171211-184640781.h264\",\n",
    "               \"20171211-185037299.h264\",\n",
    "               \"20171211-191157767.h264\"\n",
    "               ]\n",
    "\n",
    "csv_names = [\"20171211-182708258.csv\",\n",
    "             \"20171211-183607508.csv\",\n",
    "             \"20171211-184640781.csv\",\n",
    "             \"20171211-185037299.csv\",\n",
    "             \"20171211-191157767.csv\"\n",
    "             ]\n",
    "\n",
    "data_gen = generate_multifile_conc(video_names, csv_names, batch_size=500, nr_batches=104)"
   ]
  },
  {
   "cell_type": "markdown",
   "metadata": {},
   "source": [
    "# Convolutional network\n",
    "Reading data as bundles and creating initial model."
   ]
  },
  {
   "cell_type": "code",
   "execution_count": 3,
   "metadata": {},
   "outputs": [
    {
     "name": "stdout",
     "output_type": "stream",
     "text": [
      "_________________________________________________________________\n",
      "Layer (type)                 Output Shape              Param #   \n",
      "=================================================================\n",
      "conv2d_276 (Conv2D)          (None, 62, 62, 32)        3488      \n",
      "_________________________________________________________________\n",
      "conv2d_277 (Conv2D)          (None, 60, 60, 32)        9248      \n",
      "_________________________________________________________________\n",
      "max_pooling2d_126 (MaxPoolin (None, 30, 30, 32)        0         \n",
      "_________________________________________________________________\n",
      "conv2d_278 (Conv2D)          (None, 28, 28, 64)        18496     \n",
      "_________________________________________________________________\n",
      "max_pooling2d_127 (MaxPoolin (None, 14, 14, 64)        0         \n",
      "_________________________________________________________________\n",
      "conv2d_279 (Conv2D)          (None, 12, 12, 64)        36928     \n",
      "_________________________________________________________________\n",
      "max_pooling2d_128 (MaxPoolin (None, 6, 6, 64)          0         \n",
      "_________________________________________________________________\n",
      "conv2d_280 (Conv2D)          (None, 4, 4, 32)          18464     \n",
      "_________________________________________________________________\n",
      "dense_1 (Dense)              (None, 4)                 15492     \n",
      "=================================================================\n",
      "Total params: 55,972\n",
      "Trainable params: 55,972\n",
      "Non-trainable params: 0\n",
      "_________________________________________________________________\n"
     ]
    }
   ],
   "source": [
    "def create_model():\n",
    "    model = Sequential()\n",
    "    model.add(Conv2D(32, (3, 3), kernel_initializer=\"he_normal\", activation='relu', input_shape=(64, 64, 12)))\n",
    "    model.add(Conv2D(32, (3, 3), kernel_initializer=\"he_normal\", activation='relu'))\n",
    "    model.add(MaxPooling2D((2, 2)))\n",
    "    \n",
    "    model.add(Conv2D(64, (3, 3), kernel_initializer=\"he_normal\", activation='relu'))\n",
    "    model.add(MaxPooling2D((2, 2)))\n",
    "    \n",
    "    model.add(Conv2D(64, (3, 3), kernel_initializer=\"he_normal\", activation='relu'))\n",
    "    model.add(MaxPooling2D((2, 2)))\n",
    "    \n",
    "    model.add(Conv2D(32, (3, 3), kernel_initializer=\"he_normal\", activation='relu'))\n",
    "    model.add(Conv2D(32, (3, 3), kernel_initializer=\"he_normal\", activation='relu'))\n",
    "    model.add(Flatten())\n",
    "    model.add(Dense(4, activation='linear'))\n",
    "\n",
    "    model.compile(loss=\"mse\", optimizer=\"adam\")    \n",
    "    return model\n",
    "\n",
    "model = create_model()\n",
    "model.summary()"
   ]
  },
  {
   "cell_type": "code",
   "execution_count": 111,
   "metadata": {},
   "outputs": [
    {
     "name": "stdout",
     "output_type": "stream",
     "text": [
      "Epoch 1/10\n",
      "104/104 [==============================] - 367s - loss: 0.0403   \n",
      "Epoch 2/10\n",
      "104/104 [==============================] - 364s - loss: 0.0228   \n",
      "Epoch 3/10\n",
      "104/104 [==============================] - 364s - loss: 0.0075   \n",
      "Epoch 4/10\n",
      "104/104 [==============================] - 366s - loss: 0.0019   \n",
      "Epoch 5/10\n",
      "104/104 [==============================] - 366s - loss: 8.4446e-04   \n",
      "Epoch 6/10\n",
      "104/104 [==============================] - 364s - loss: 5.6323e-04   \n",
      "Epoch 7/10\n",
      "104/104 [==============================] - 370s - loss: 3.4127e-04   \n",
      "Epoch 8/10\n",
      "104/104 [==============================] - 370s - loss: 2.8299e-04   \n",
      "Epoch 9/10\n",
      "104/104 [==============================] - 368s - loss: 2.7231e-04   \n",
      "Epoch 10/10\n",
      "104/104 [==============================] - 371s - loss: 1.9411e-04   \n"
     ]
    }
   ],
   "source": [
    "history = model.fit_generator(data_gen, steps_per_epoch=104, epochs=10)"
   ]
  },
  {
   "cell_type": "code",
   "execution_count": 112,
   "metadata": {
    "collapsed": true
   },
   "outputs": [],
   "source": [
    "test_images, test_labels = extract_training_data_as_stacked(\"Data/20171029-201639.h264.avi\", \n",
    "                                                            \"Data/20171029-201639.h264.csv\", \n",
    "                                                            IMAGE_SIZE)\n",
    "\n",
    "prediction = model.predict(test_images)"
   ]
  },
  {
   "cell_type": "markdown",
   "metadata": {},
   "source": [
    "### Convolutional network results\n",
    "Testing prediction printout and graphs."
   ]
  },
  {
   "cell_type": "code",
   "execution_count": 114,
   "metadata": {},
   "outputs": [
    {
     "data": {
      "text/plain": [
       "array([[ 0.18481965,  0.08975702,  0.81576502],\n",
       "       [ 0.17658824,  0.0984219 ,  0.81520021],\n",
       "       [ 0.17432518,  0.09171894,  0.8268528 ],\n",
       "       ..., \n",
       "       [ 0.34776977,  0.03103092,  1.00739229],\n",
       "       [ 0.05248072,  0.08368357,  0.93067801],\n",
       "       [-0.34477755,  0.09949024,  0.85000205]], dtype=float32)"
      ]
     },
     "execution_count": 114,
     "metadata": {},
     "output_type": "execute_result"
    }
   ],
   "source": [
    "prediction"
   ]
  },
  {
   "cell_type": "code",
   "execution_count": 115,
   "metadata": {},
   "outputs": [
    {
     "data": {
      "image/png": "[encoded data removed]",
      "text/plain": [
       "<matplotlib.figure.Figure at 0x1e7289252e8>"
      ]
     },
     "metadata": {},
     "output_type": "display_data"
    }
   ],
   "source": [
    "# Prediction histogram\n",
    "plt.hist(prediction[:, 0])\n",
    "plt.show()\n",
    "\n",
    "# Test data\n",
    "plt.hist(test_labels['Steering'])\n",
    "plt.show()"
   ]
  },
  {
   "cell_type": "code",
   "execution_count": 116,
   "metadata": {},
   "outputs": [
    {
     "data": {
      "image/png": "[encoded data removed]",
      "text/plain": [
       "<matplotlib.figure.Figure at 0x1e728964a58>"
      ]
     },
     "metadata": {},
     "output_type": "display_data"
    }
   ],
   "source": [
    "# Prediction histogram\n",
    "plt.hist(prediction[:, 1])\n",
    "plt.show()\n",
    "\n",
    "# Test data\n",
    "plt.hist(test_labels['Braking'])\n",
    "plt.show()"
   ]
  },
  {
   "cell_type": "code",
   "execution_count": 117,
   "metadata": {},
   "outputs": [
    {
     "data": {
      "image/png": "[encoded data removed]",
      "text/plain": [
       "<matplotlib.figure.Figure at 0x1e72899a860>"
      ]
     },
     "metadata": {},
     "output_type": "display_data"
    }
   ],
   "source": [
    "# Prediction histogram\n",
    "plt.hist(prediction[:, 2])\n",
    "plt.show()\n",
    "\n",
    "# Test data\n",
    "plt.hist(test_labels['Throttle'])\n",
    "plt.show()"
   ]
  },
  {
   "cell_type": "code",
   "execution_count": 118,
   "metadata": {},
   "outputs": [
    {
     "data": {
      "image/png": "[encoded data removed]",
      "text/plain": [
       "<matplotlib.figure.Figure at 0x291c0ac8a20>"
      ]
     },
     "metadata": {},
     "output_type": "display_data"
    },
    {
     "data": {
      "image/png": "[encoded data removed]",
      "text/plain": [
       "<matplotlib.figure.Figure at 0x291c0b30b70>"
      ]
     },
     "metadata": {},
     "output_type": "display_data"
    }
   ],
   "source": [
    "# Prediction histogram\n",
    "plt.hist(prediction[:, 3])\n",
    "plt.show()\n",
    "\n",
    "# Test data\n",
    "plt.hist(test_labels['Gear'])\n",
    "plt.show()"
   ]
  },
  {
   "cell_type": "markdown",
   "metadata": {},
   "source": [
    "### Result analysis\n",
    "Explained variance etc.\n",
    "\n",
    "Firstly clip incorrect values back into known bounds. Afterwards find the explained variance."
   ]
  },
  {
   "cell_type": "code",
   "execution_count": 119,
   "metadata": {},
   "outputs": [
    {
     "name": "stdout",
     "output_type": "stream",
     "text": [
      "(939, 4)\n",
      "(939, 4)\n"
     ]
    }
   ],
   "source": [
    "validation_labels = test_labels.as_matrix(columns=test_labels.columns[1: ])\n",
    "\n",
    "clipped_prediction = np.zeros_like(prediction)\n",
    "\n",
    "# Steering\n",
    "clipped_prediction[:, 0] = np.clip(prediction[:, 0], -1, 1)\n",
    "# Brakes\n",
    "clipped_prediction[:, 1] = np.clip(prediction[:, 1], 0, 1)\n",
    "# Throttle\n",
    "clipped_prediction[:, 2] = np.clip(prediction[:, 2], 0, 1)\n",
    "# Gear\n",
    "clipped_prediction[:, 3] = np.round(prediction[:, 3])\n",
    "\n",
    "\n",
    "print(validation_labels.shape)\n",
    "print(clipped_prediction.shape)"
   ]
  },
  {
   "cell_type": "code",
   "execution_count": 120,
   "metadata": {},
   "outputs": [
    {
     "data": {
      "text/plain": [
       "0.088881589872853925"
      ]
     },
     "execution_count": 120,
     "metadata": {},
     "output_type": "execute_result"
    }
   ],
   "source": [
    "explained_variance_score(validation_labels, clipped_prediction)"
   ]
  },
  {
   "cell_type": "markdown",
   "metadata": {},
   "source": [
    "## K fold cross validation"
   ]
  },
  {
   "cell_type": "code",
   "execution_count": null,
   "metadata": {
    "collapsed": true
   },
   "outputs": [],
   "source": [
    "from common import run_kfold_cross_val\n",
    "\n",
    "# Concatenate both videos\n",
    "total_images = np.concatenate((images, test_images), axis=0)\n",
    "total_labels = np.concatenate((labels, test_labels), axis=0)\n",
    "\n",
    "total_y_train = total_labels[:, 1:-1]\n",
    "\n",
    "results = run_kfold_cross_val(create_model, total_images, total_y_train)\n",
    "print(results)\n",
    "print(results.mean())\n",
    "print(np.median(results))"
   ]
  },
  {
   "cell_type": "markdown",
   "metadata": {},
   "source": [
    "## Saving model\n",
    "Saves the model into a file and loads it again."
   ]
  },
  {
   "cell_type": "code",
   "execution_count": 113,
   "metadata": {
    "collapsed": true
   },
   "outputs": [],
   "source": [
    "from keras.models import load_model\n",
    "\n",
    "model.save('conv_dense_gear_bigdata.h5')\n",
    "del model\n",
    "model = load_model('conv_dense_gear_bigdata.h5')"
   ]
  },
  {
   "cell_type": "markdown",
   "metadata": {},
   "source": [
    "## Code block to run the actual car\n",
    "\n",
    "Not recommended, use the separate script (currently main.py) instead.\n"
   ]
  },
  {
   "cell_type": "code",
   "execution_count": 7,
   "metadata": {},
   "outputs": [
    {
     "ename": "KeyboardInterrupt",
     "evalue": "",
     "output_type": "error",
     "traceback": [
      "\u001b[1;31m---------------------------------------------------------------------------\u001b[0m",
      "\u001b[1;31mKeyboardInterrupt\u001b[0m                         Traceback (most recent call last)",
      "\u001b[1;32m<ipython-input-7-ad330a717abc>\u001b[0m in \u001b[0;36m<module>\u001b[1;34m()\u001b[0m\n\u001b[0;32m     12\u001b[0m \u001b[1;33m\u001b[0m\u001b[0m\n\u001b[0;32m     13\u001b[0m     \u001b[1;31m# connect to 22241 and retreive rescaled frame\u001b[0m\u001b[1;33m\u001b[0m\u001b[1;33m\u001b[0m\u001b[0m\n\u001b[1;32m---> 14\u001b[1;33m     \u001b[0mframe\u001b[0m \u001b[1;33m=\u001b[0m \u001b[0mconnection\u001b[0m\u001b[1;33m.\u001b[0m\u001b[0mreceive_data_from_stream\u001b[0m\u001b[1;33m(\u001b[0m\u001b[1;33m)\u001b[0m\u001b[1;33m\u001b[0m\u001b[0m\n\u001b[0m\u001b[0;32m     15\u001b[0m \u001b[1;33m\u001b[0m\u001b[0m\n\u001b[0;32m     16\u001b[0m     \u001b[1;32mif\u001b[0m \u001b[0mframe\u001b[0m \u001b[1;32mis\u001b[0m \u001b[1;32mnot\u001b[0m \u001b[1;32mNone\u001b[0m\u001b[1;33m:\u001b[0m\u001b[1;33m\u001b[0m\u001b[0m\n",
      "\u001b[1;32mD:\\Dropbox\\1_Õppematerjalid\\2_Magister\\1_Semester\\Tehisnärvivõrgud\\Projekt\\car_interfacing.py\u001b[0m in \u001b[0;36mreceive_data_from_stream\u001b[1;34m(self)\u001b[0m\n\u001b[0;32m     45\u001b[0m         \u001b[0mself\u001b[0m\u001b[1;33m.\u001b[0m\u001b[0mrecv_sock\u001b[0m\u001b[1;33m.\u001b[0m\u001b[0mconnect\u001b[0m\u001b[1;33m(\u001b[0m\u001b[1;33m(\u001b[0m\u001b[0msocket\u001b[0m\u001b[1;33m.\u001b[0m\u001b[0mgethostbyname\u001b[0m\u001b[1;33m(\u001b[0m\u001b[1;34m'tigu6'\u001b[0m\u001b[1;33m)\u001b[0m\u001b[1;33m,\u001b[0m \u001b[1;36m22242\u001b[0m\u001b[1;33m)\u001b[0m\u001b[1;33m)\u001b[0m\u001b[1;33m\u001b[0m\u001b[0m\n\u001b[0;32m     46\u001b[0m \u001b[1;33m\u001b[0m\u001b[0m\n\u001b[1;32m---> 47\u001b[1;33m         \u001b[0mheader\u001b[0m \u001b[1;33m=\u001b[0m \u001b[0mself\u001b[0m\u001b[1;33m.\u001b[0m\u001b[0mrecv_sock\u001b[0m\u001b[1;33m.\u001b[0m\u001b[0mrecv\u001b[0m\u001b[1;33m(\u001b[0m\u001b[1;36m4\u001b[0m\u001b[1;33m)\u001b[0m\u001b[1;33m\u001b[0m\u001b[0m\n\u001b[0m\u001b[0;32m     48\u001b[0m         \u001b[0mbytes_to_read\u001b[0m \u001b[1;33m=\u001b[0m \u001b[0mint\u001b[0m\u001b[1;33m.\u001b[0m\u001b[0mfrom_bytes\u001b[0m\u001b[1;33m(\u001b[0m\u001b[0mheader\u001b[0m\u001b[1;33m,\u001b[0m \u001b[0mbyteorder\u001b[0m\u001b[1;33m=\u001b[0m\u001b[1;34m'little'\u001b[0m\u001b[1;33m)\u001b[0m\u001b[1;33m\u001b[0m\u001b[0m\n\u001b[0;32m     49\u001b[0m \u001b[1;33m\u001b[0m\u001b[0m\n",
      "\u001b[1;31mKeyboardInterrupt\u001b[0m: "
     ]
    }
   ],
   "source": [
    "from PIL import Image\n",
    "from keras.models import load_model\n",
    "\n",
    "model = load_model('conv_dense_gear_bigdata.h5')\n",
    "connection = CarConnection()\n",
    "\n",
    "frame_counter = 0\n",
    "processed_frames = []\n",
    "\n",
    "while True:\n",
    "    frame_counter += 1\n",
    "    \n",
    "    # connect to 22241 and retreive rescaled frame\n",
    "    frame = connection.receive_data_from_stream()\n",
    "    \n",
    "    if frame is not None:\n",
    "        # Normalizing frame\n",
    "        normed = frame / 255\n",
    "        processed_frames.append(normed)\n",
    "        \n",
    "        if len(processed_frames) >= 4:\n",
    "            stacked_image = np.concatenate(processed_frames, axis=2)\n",
    "            processed_frames.pop(0)\n",
    "            \n",
    "            prediction = model.predict(stacked_image[np.newaxis, :])\n",
    "            pred_list = prediction.tolist()[0]\n",
    "            \n",
    "            # Eliminate braking element if it's too small\n",
    "            pred_list[1] = pred_list[1] if pred_list[1] >= 0.4 else 0.0\n",
    "            \n",
    "            # Normalize throttle to be always an effective input\n",
    "            pred_list[2] = 0.3 + np.clip(pred_list[2], 0, 1) * 0.5\n",
    "            \n",
    "            # Round gear to closest integer\n",
    "            pred_list[3] = 2 if pred_list[3] >= 1.3 else 1\n",
    "            \n",
    "            connection.send_commands_to_car(pred_list)\n",
    "                \n",
    "    # Some breaking condition to kill me here\n",
    "    if frame_counter >= 15000:\n",
    "        break\n",
    "\n",
    "connection.close()"
   ]
  },
  {
   "cell_type": "code",
   "execution_count": 3,
   "metadata": {
    "collapsed": true
   },
   "outputs": [],
   "source": [
    "connection.close()"
   ]
  }
 ],
 "metadata": {
  "kernelspec": {
   "display_name": "Python 3",
   "language": "python",
   "name": "python3"
  },
  "language_info": {
   "codemirror_mode": {
    "name": "ipython",
    "version": 3
   },
   "file_extension": ".py",
   "mimetype": "text/x-python",
   "name": "python",
   "nbconvert_exporter": "python",
   "pygments_lexer": "ipython3",
   "version": "3.5.4"
  }
 },
 "nbformat": 4,
 "nbformat_minor": 2
}
