{
 "cells": [
  {
   "cell_type": "code",
   "execution_count": null,
   "metadata": {},
   "outputs": [],
   "source": [
    "import cv2\n",
    "import numpy as np\n",
    "import pandas as pd\n",
    "from keras.layers import Conv2D, Flatten, Dense, LSTM, TimeDistributed, \\\n",
    "    MaxPooling2D\n",
    "from keras.models import Sequential\n",
    "\n",
    "IMAGE_SIZE = (64, 64, 3)\n",
    "\n",
    "def extract_training_data(filename, csv_filename, image_size=(64, 64, 3)):\n",
    "    cap = cv2.VideoCapture(filename)\n",
    "    labels = pd.read_csv(csv_filename, sep=\"\\t\", header=0)\n",
    "        \n",
    "    frame_counter = 0\n",
    "    processed_frames = []\n",
    "\n",
    "    training_images = []\n",
    "    training_label_ids = []\n",
    "    while True:\n",
    "        frame_counter += 1\n",
    "        result, frame = cap.read() \n",
    "        if result and frame_counter % 12 == 0:\n",
    "            # cv2.imshow(\"img\", frame)\n",
    "            frame = frame / 255\n",
    "            resized = cv2.resize(frame, image_size[:2])\n",
    "            processed_frames.append(resized)\n",
    "            if len(processed_frames) >= 4:\n",
    "                # cv2.imshow('frame', resized)\n",
    "\n",
    "                # stacked_image = np.concatenate(processed_frames, axis=2)\n",
    "                # training_labels.append(labels[frame_counter])\n",
    "                training_images.append(processed_frames.copy())\n",
    "                training_label_ids.append(frame_counter)\n",
    "                processed_frames.pop(0)\n",
    "\n",
    "        if cv2.waitKey(1) & 0xFF == ord('q') or not result:\n",
    "            break\n",
    "\n",
    "    # When everything done, release the capture\n",
    "    cap.release()\n",
    "    cv2.destroyAllWindows()\n",
    "\n",
    "    training_images = np.array(training_images)\n",
    "    training_labels = labels.loc[training_label_ids]\n",
    "    \n",
    "    assert training_images.shape[0] == training_labels.shape[0]\n",
    "    return training_images, training_labels\n",
    "\n"
   ]
  },
  {
   "cell_type": "code",
   "execution_count": 44,
   "metadata": {},
   "outputs": [],
   "source": [
    "images, labels = extract_training_data(\"Data/20171029-201949.h264.avi\", \"Data/20171029-201949.h264.csv\", IMAGE_SIZE)"
   ]
  },
  {
   "cell_type": "code",
   "execution_count": 45,
   "metadata": {},
   "outputs": [
    {
     "name": "stdout",
     "output_type": "stream",
     "text": [
      "_________________________________________________________________\n",
      "Layer (type)                 Output Shape              Param #   \n",
      "=================================================================\n",
      "time_distributed_7 (TimeDist (None, 4, 62, 62, 32)     896       \n",
      "_________________________________________________________________\n",
      "time_distributed_8 (TimeDist (None, 4, 31, 31, 32)     0         \n",
      "_________________________________________________________________\n",
      "time_distributed_9 (TimeDist (None, 4, 30752)          0         \n",
      "_________________________________________________________________\n",
      "lstm_3 (LSTM)                (None, 32)                3940480   \n",
      "_________________________________________________________________\n",
      "dense_3 (Dense)              (None, 3)                 99        \n",
      "=================================================================\n",
      "Total params: 3,941,475\n",
      "Trainable params: 3,941,475\n",
      "Non-trainable params: 0\n",
      "_________________________________________________________________\n"
     ]
    }
   ],
   "source": [
    "model = Sequential()\n",
    "model.add(TimeDistributed(Conv2D(32, (3, 3), kernel_initializer=\"he_normal\", activation='relu'),\n",
    "                          input_shape=(4, 64, 64, 3)))\n",
    "model.add(TimeDistributed(MaxPooling2D((2, 2))))\n",
    "model.add(TimeDistributed(Flatten()))\n",
    "model.add(LSTM(32, return_sequences=False))\n",
    "model.add(Dense(3, activation='linear'))\n",
    "\n",
    "model.compile(loss=\"mse\", optimizer=\"adam\")\n",
    "model.summary()"
   ]
  },
  {
   "cell_type": "code",
   "execution_count": 50,
   "metadata": {},
   "outputs": [
    {
     "name": "stdout",
     "output_type": "stream",
     "text": [
      "    Timestamp_s  Steering  Braking  Throttle  Gear\n",
      "48     0.800033 -0.126390      0.0       1.0   2.0\n",
      "60     1.000025  0.270588      0.0       1.0   2.0\n",
      "72     1.200017  0.242210      0.0       1.0   2.0\n",
      "84     1.400009  0.163224      0.0       1.0   1.0\n",
      "96     1.600001 -0.268356      0.0       1.0   0.0\n"
     ]
    }
   ],
   "source": [
    "print(labels.head())\n",
    "y_train = labels.as_matrix(columns=labels.columns[1: -1])\n",
    "#prediction = model.predict(images)\n",
    "\n",
    "#for i in range(len(prediction)):\n",
    "#    if i % 10 == 0:\n",
    "#        print(np.mean(images[i], axis=(1, 2, 3)), prediction[i])\n",
    "\n",
    "# for i in range(len(images)):\n",
    "#     # print(np.mean(images[i], axis=(1,2,3)))\n",
    "#     print(labels.head(10))"
   ]
  },
  {
   "cell_type": "code",
   "execution_count": 47,
   "metadata": {},
   "outputs": [
    {
     "name": "stdout",
     "output_type": "stream",
     "text": [
      "Train on 1671 samples, validate on 70 samples\n",
      "Epoch 1/5\n",
      "1671/1671 [==============================] - 36s - loss: 1.3678 - val_loss: 1.9821\n",
      "Epoch 2/5\n",
      "1671/1671 [==============================] - 35s - loss: 0.8371 - val_loss: 1.3662\n",
      "Epoch 3/5\n",
      "1671/1671 [==============================] - 37s - loss: 0.5049 - val_loss: 0.9732\n",
      "Epoch 4/5\n",
      "1671/1671 [==============================] - 36s - loss: 0.3181 - val_loss: 0.7183\n",
      "Epoch 5/5\n",
      "1671/1671 [==============================] - 38s - loss: 0.2148 - val_loss: 0.5489\n"
     ]
    }
   ],
   "source": [
    "history = model.fit(images, y_train, batch_size=64, epochs=5, validation_split=0.04)"
   ]
  },
  {
   "cell_type": "code",
   "execution_count": 48,
   "metadata": {},
   "outputs": [],
   "source": [
    "images, _ = extract_training_data(\"Data/20171029-201639.h264.avi\", \"Data/20171029-201639.h264.csv\", IMAGE_SIZE)\n",
    "\n",
    "prediction = model.predict(images)\n",
    "\n",
    "#for i in range(len(prediction)):\n",
    "#    if i % 10 == 0:\n",
    "#        print(np.mean(images[i], axis=(1,2,3)), prediction[i])\n",
    "\n",
    "# #\n",
    "# for i in range(len(images)):\n",
    "#     print(np.mean(images[i], axis=(1,2,3)))"
   ]
  },
  {
   "cell_type": "code",
   "execution_count": 49,
   "metadata": {},
   "outputs": [
    {
     "name": "stdout",
     "output_type": "stream",
     "text": [
      "[ 0.10932445  0.00959995  1.40309608]\n",
      "[ 0.10932445  0.00959995  1.40309608]\n",
      "[ 0.10932445  0.00959995  1.40309608]\n",
      "[ 0.10932445  0.00959995  1.40309608]\n",
      "[ 0.10932445  0.00959995  1.40309608]\n",
      "[ 0.10932445  0.00959995  1.40309608]\n",
      "[ 0.10932445  0.00959995  1.40309608]\n",
      "[ 0.10932445  0.00959995  1.40309608]\n",
      "[ 0.10932445  0.00959995  1.40309608]\n",
      "[ 0.10932445  0.00959995  1.40309608]\n",
      "[ 0.10932445  0.00959995  1.40309608]\n",
      "[ 0.10932445  0.00959995  1.40309608]\n",
      "[ 0.10932445  0.00959995  1.40309608]\n",
      "[ 0.10932445  0.00959995  1.40309608]\n",
      "[ 0.10932445  0.00959995  1.40309608]\n",
      "[ 0.10932445  0.00959995  1.40309608]\n",
      "[ 0.10932445  0.00959995  1.40309608]\n",
      "[ 0.10932445  0.00959995  1.40309608]\n",
      "[ 0.10932445  0.00959995  1.40309608]\n",
      "[ 0.10932445  0.00959995  1.40309608]\n",
      "[ 0.10932445  0.00959995  1.40309608]\n",
      "[ 0.10932445  0.00959995  1.40309608]\n",
      "[ 0.10932445  0.00959995  1.40309608]\n",
      "[ 0.10932445  0.00959995  1.40309608]\n",
      "[ 0.10932445  0.00959995  1.40309608]\n",
      "[ 0.10932445  0.00959995  1.40309608]\n",
      "[ 0.10932445  0.00959995  1.40309608]\n",
      "[ 0.10932445  0.00959995  1.40309608]\n",
      "[ 0.10932445  0.00959995  1.40309608]\n",
      "[ 0.10932445  0.00959995  1.40309608]\n",
      "[ 0.10932445  0.00959995  1.40309608]\n",
      "[ 0.10932445  0.00959995  1.40309608]\n",
      "[ 0.10932445  0.00959995  1.40309608]\n",
      "[ 0.10932445  0.00959995  1.40309608]\n",
      "[ 0.10932445  0.00959995  1.40309608]\n",
      "[ 0.10932445  0.00959995  1.40309608]\n",
      "[ 0.10932445  0.00959995  1.40309608]\n",
      "[ 0.10932445  0.00959995  1.40309608]\n",
      "[ 0.10932445  0.00959995  1.40309608]\n",
      "[ 0.10932445  0.00959995  1.40309608]\n",
      "[ 0.10932445  0.00959995  1.40309608]\n",
      "[ 0.10932445  0.00959995  1.40309608]\n",
      "[ 0.10932445  0.00959995  1.40309608]\n",
      "[ 0.10932445  0.00959995  1.40309608]\n",
      "[ 0.10932445  0.00959995  1.40309608]\n",
      "[ 0.10932445  0.00959995  1.40309608]\n",
      "[ 0.10932445  0.00959995  1.40309608]\n",
      "[ 0.10932445  0.00959995  1.40309608]\n",
      "[ 0.10932445  0.00959995  1.40309608]\n",
      "[ 0.10932445  0.00959995  1.40309608]\n",
      "[ 0.10932445  0.00959995  1.40309608]\n",
      "[ 0.10932445  0.00959995  1.40309608]\n",
      "[ 0.10932445  0.00959995  1.40309608]\n",
      "[ 0.10932445  0.00959995  1.40309608]\n",
      "[ 0.10932445  0.00959995  1.40309608]\n",
      "[ 0.10932445  0.00959995  1.40309608]\n",
      "[ 0.10932445  0.00959995  1.40309608]\n",
      "[ 0.10932445  0.00959995  1.40309608]\n",
      "[ 0.10932445  0.00959995  1.40309608]\n",
      "[ 0.10932445  0.00959995  1.40309608]\n",
      "[ 0.10932445  0.00959995  1.40309608]\n",
      "[ 0.10932445  0.00959995  1.40309608]\n",
      "[ 0.10932445  0.00959995  1.40309608]\n",
      "[ 0.10932445  0.00959995  1.40309608]\n",
      "[ 0.10932445  0.00959995  1.40309608]\n",
      "[ 0.10932445  0.00959995  1.40309608]\n",
      "[ 0.10932445  0.00959995  1.40309608]\n",
      "[ 0.10932445  0.00959995  1.40309608]\n",
      "[ 0.10932445  0.00959995  1.40309608]\n",
      "[ 0.10932445  0.00959995  1.40309608]\n",
      "[ 0.10932445  0.00959995  1.40309608]\n",
      "[ 0.10932445  0.00959995  1.40309608]\n",
      "[ 0.10932445  0.00959995  1.40309608]\n",
      "[ 0.10932445  0.00959995  1.40309608]\n",
      "[ 0.10932445  0.00959995  1.40309608]\n",
      "[ 0.10932445  0.00959995  1.40309608]\n",
      "[ 0.10932445  0.00959995  1.40309608]\n",
      "[ 0.10932445  0.00959995  1.40309608]\n",
      "[ 0.10932445  0.00959995  1.40309608]\n",
      "[ 0.10932445  0.00959995  1.40309608]\n",
      "[ 0.10932445  0.00959995  1.40309608]\n",
      "[ 0.10932445  0.00959995  1.40309608]\n",
      "[ 0.10932445  0.00959995  1.40309608]\n",
      "[ 0.10932445  0.00959995  1.40309608]\n",
      "[ 0.10932445  0.00959995  1.40309608]\n",
      "[ 0.10932445  0.00959995  1.40309608]\n",
      "[ 0.10932445  0.00959995  1.40309608]\n",
      "[ 0.10932445  0.00959995  1.40309608]\n",
      "[ 0.10932445  0.00959995  1.40309608]\n",
      "[ 0.10932445  0.00959995  1.40309608]\n",
      "[ 0.10932445  0.00959995  1.40309608]\n",
      "[ 0.10932445  0.00959995  1.40309608]\n",
      "[ 0.10932445  0.00959995  1.40309608]\n",
      "[ 0.10932445  0.00959995  1.40309608]\n"
     ]
    }
   ],
   "source": [
    "for i in range(len(prediction)):\n",
    "    if i % 10== 0:\n",
    "        print(prediction[i])"
   ]
  }
 ],
 "metadata": {
  "kernelspec": {
   "display_name": "Python 3",
   "language": "python",
   "name": "python3"
  },
  "language_info": {
   "codemirror_mode": {
    "name": "ipython",
    "version": 3
   },
   "file_extension": ".py",
   "mimetype": "text/x-python",
   "name": "python",
   "nbconvert_exporter": "python",
   "pygments_lexer": "ipython3",
   "version": "3.6.1"
  }
 },
 "nbformat": 4,
 "nbformat_minor": 2
}
