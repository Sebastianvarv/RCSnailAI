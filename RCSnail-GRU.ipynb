{
 "cells": [
  {
   "cell_type": "code",
   "execution_count": 2,
   "metadata": {
    "collapsed": true
   },
   "outputs": [],
   "source": [
    "import cv2\n",
    "import numpy as np\n",
    "import pandas as pd\n",
    "import matplotlib.pyplot as plt\n",
    "\n",
    "from keras.layers import Conv2D, Flatten, Dense, LSTM, ConvLSTM2D, \\\n",
    "    MaxPooling2D, GRU\n",
    "from keras.models import Sequential\n",
    "from common import extract_training_data\n",
    "\n",
    "IMAGE_SIZE = (64, 64, 3)"
   ]
  },
  {
   "cell_type": "code",
   "execution_count": 4,
   "metadata": {},
   "outputs": [
    {
     "data": {
      "text/plain": [
       "(1744, 3)"
      ]
     },
     "execution_count": 4,
     "metadata": {},
     "output_type": "execute_result"
    }
   ],
   "source": [
    "images, labels = extract_training_data(\"Data/20171029-201949.h264.avi\", \"Data/20171029-201949.h264.csv\", IMAGE_SIZE)\n",
    "y_train = labels.as_matrix(columns=labels.columns[1: -1])\n",
    "y_train.shape"
   ]
  },
  {
   "cell_type": "markdown",
   "metadata": {},
   "source": [
    "# 2D-Conv GRU network"
   ]
  },
  {
   "cell_type": "code",
   "execution_count": 3,
   "metadata": {},
   "outputs": [
    {
     "name": "stdout",
     "output_type": "stream",
     "text": [
      "_________________________________________________________________\n",
      "Layer (type)                 Output Shape              Param #   \n",
      "=================================================================\n",
      "conv2d_1 (Conv2D)            (None, 62, 62, 32)        896       \n",
      "_________________________________________________________________\n",
      "max_pooling2d_1 (MaxPooling2 (None, 31, 31, 32)        0         \n",
      "_________________________________________________________________\n",
      "permute_1 (Permute)          (None, 32, 31, 31)        0         \n",
      "_________________________________________________________________\n",
      "reshape_1 (Reshape)          (None, 4, 7688)           0         \n",
      "_________________________________________________________________\n",
      "gru_1 (GRU)                  (None, 64)                1488576   \n",
      "_________________________________________________________________\n",
      "dense_1 (Dense)              (None, 3)                 195       \n",
      "=================================================================\n",
      "Total params: 1,489,667\n",
      "Trainable params: 1,489,667\n",
      "Non-trainable params: 0\n",
      "_________________________________________________________________\n"
     ]
    }
   ],
   "source": [
    "from keras.layers import Permute, Reshape\n",
    "\n",
    "def create_model():\n",
    "    model = Sequential()\n",
    "    model.add(Conv2D(32, (3, 3), kernel_initializer=\"he_normal\", activation='relu', input_shape=(64, 64, 3)))\n",
    "    model.add(MaxPooling2D((2, 2)))\n",
    "    model.add(Permute((3, 2, 1)))\n",
    "    model.add(Reshape((4, 7688)))\n",
    "    model.add(GRU(64, return_sequences=False))\n",
    "    model.add(Dense(3, activation='linear'))\n",
    "\n",
    "    model.compile(loss=\"mse\", optimizer=\"adam\")\n",
    "    \n",
    "    return model\n",
    "\n",
    "model = create_model()\n",
    "model.summary()"
   ]
  },
  {
   "cell_type": "code",
   "execution_count": 5,
   "metadata": {},
   "outputs": [
    {
     "name": "stdout",
     "output_type": "stream",
     "text": [
      "Train on 1674 samples, validate on 70 samples\n",
      "Epoch 1/10\n",
      "1674/1674 [==============================] - 13s - loss: 1.0028 - val_loss: 0.2669\n",
      "Epoch 2/10\n",
      "1674/1674 [==============================] - 12s - loss: 0.0878 - val_loss: 0.2666\n",
      "Epoch 3/10\n",
      "1674/1674 [==============================] - 15s - loss: 0.0664 - val_loss: 0.2665\n",
      "Epoch 4/10\n",
      "1674/1674 [==============================] - 12s - loss: 0.0550 - val_loss: 0.2714\n",
      "Epoch 5/10\n",
      "1674/1674 [==============================] - 11s - loss: 0.0492 - val_loss: 0.2753\n",
      "Epoch 6/10\n",
      "1674/1674 [==============================] - 12s - loss: 0.0452 - val_loss: 0.3005\n",
      "Epoch 7/10\n",
      "1674/1674 [==============================] - 14s - loss: 0.0412 - val_loss: 0.2633\n",
      "Epoch 8/10\n",
      "1674/1674 [==============================] - 13s - loss: 0.0386 - val_loss: 0.2753\n",
      "Epoch 9/10\n",
      "1674/1674 [==============================] - 14s - loss: 0.0348 - val_loss: 0.3357\n",
      "Epoch 10/10\n",
      "1674/1674 [==============================] - 12s - loss: 0.0342 - val_loss: 0.3004\n"
     ]
    }
   ],
   "source": [
    "history = model.fit(images, y_train, batch_size=64, epochs=10, validation_split=0.04)"
   ]
  },
  {
   "cell_type": "code",
   "execution_count": 6,
   "metadata": {
    "collapsed": true
   },
   "outputs": [],
   "source": [
    "test_images, test_labels = extract_training_data(\"Data/20171029-201639.h264.avi\", \n",
    "                                                            \"Data/20171029-201639.h264.csv\", \n",
    "                                                            IMAGE_SIZE)\n",
    "\n",
    "prediction = model.predict(test_images)"
   ]
  },
  {
   "cell_type": "code",
   "execution_count": 7,
   "metadata": {},
   "outputs": [
    {
     "data": {
      "text/plain": [
       "array([[ 0.35487324,  0.04773247,  0.97633666],\n",
       "       [ 0.36069515,  0.07747481,  0.9662829 ],\n",
       "       [ 0.34121108,  0.06810095,  0.97056681],\n",
       "       ..., \n",
       "       [-0.20059229, -0.0848408 ,  0.95851427],\n",
       "       [-0.31776491,  0.00480125,  1.04068553],\n",
       "       [-0.12902276, -0.01198367,  0.9342581 ]], dtype=float32)"
      ]
     },
     "execution_count": 7,
     "metadata": {},
     "output_type": "execute_result"
    }
   ],
   "source": [
    "prediction"
   ]
  },
  {
   "cell_type": "code",
   "execution_count": 8,
   "metadata": {},
   "outputs": [
    {
     "data": {
      "image/png": "[encoded data removed]",
      "text/plain": [
       "<matplotlib.figure.Figure at 0x147f4b81a20>"
      ]
     },
     "metadata": {},
     "output_type": "display_data"
    }
   ],
   "source": [
    "plt.hist(prediction[:, 0])\n",
    "plt.show()"
   ]
  },
  {
   "cell_type": "code",
   "execution_count": 9,
   "metadata": {},
   "outputs": [
    {
     "data": {
      "image/png": "[encoded data removed]",
      "text/plain": [
       "<matplotlib.figure.Figure at 0x147f4b81c50>"
      ]
     },
     "metadata": {},
     "output_type": "display_data"
    }
   ],
   "source": [
    "plt.hist(prediction[:, 1])\n",
    "plt.show()"
   ]
  },
  {
   "cell_type": "code",
   "execution_count": 10,
   "metadata": {},
   "outputs": [
    {
     "data": {
      "image/png": "[encoded data removed]",
      "text/plain": [
       "<matplotlib.figure.Figure at 0x147dada1dd8>"
      ]
     },
     "metadata": {},
     "output_type": "display_data"
    }
   ],
   "source": [
    "plt.hist(prediction[:, 2])\n",
    "plt.show()"
   ]
  },
  {
   "cell_type": "code",
   "execution_count": 11,
   "metadata": {},
   "outputs": [
    {
     "name": "stdout",
     "output_type": "stream",
     "text": [
      "(942, 3)\n",
      "(942, 3)\n"
     ]
    }
   ],
   "source": [
    "validation_labels = test_labels.as_matrix(columns=test_labels.columns[1: -1])\n",
    "clipped_prediction = np.zeros_like(prediction)\n",
    "\n",
    "clipped_prediction[:, 0] = np.clip(prediction[:, 0], -1, 1)\n",
    "clipped_prediction[:, 1] = np.clip(prediction[:, 1], 0, 1)\n",
    "clipped_prediction[:, 2] = np.clip(prediction[:, 2], 0, 1)\n",
    "\n",
    "print(validation_labels.shape)\n",
    "print(clipped_prediction.shape)"
   ]
  },
  {
   "cell_type": "code",
   "execution_count": 12,
   "metadata": {},
   "outputs": [
    {
     "data": {
      "text/plain": [
       "0.087111365515878725"
      ]
     },
     "execution_count": 12,
     "metadata": {},
     "output_type": "execute_result"
    }
   ],
   "source": [
    "from sklearn.metrics import explained_variance_score\n",
    "explained_variance_score(validation_labels, prediction)"
   ]
  },
  {
   "cell_type": "markdown",
   "metadata": {},
   "source": [
    "# K fold cross-validation"
   ]
  },
  {
   "cell_type": "code",
   "execution_count": 13,
   "metadata": {},
   "outputs": [
    {
     "name": "stdout",
     "output_type": "stream",
     "text": [
      "[  1.36788270e-03   1.53433192e-02   1.81131124e-01   2.28401750e-01\n",
      "   2.55362328e-01  -2.07300035e-08   1.60449410e-01   2.16351104e-01\n",
      "   4.66106240e-02   6.50884222e-02]\n",
      "0.117010594384\n",
      "0.112768916225\n"
     ]
    }
   ],
   "source": [
    "from common import run_kfold_cross_val\n",
    "\n",
    "# Concatenate both videos\n",
    "total_images = np.concatenate((images, test_images), axis=0)\n",
    "total_labels = np.concatenate((labels, test_labels), axis=0)\n",
    "\n",
    "total_y_train = total_labels[:, 1:-1]\n",
    "\n",
    "results = run_kfold_cross_val(create_model, total_images, total_y_train)\n",
    "print(results)\n",
    "print(results.mean())\n",
    "print(np.median(results))"
   ]
  },
  {
   "cell_type": "markdown",
   "metadata": {},
   "source": [
    "# Save the model"
   ]
  },
  {
   "cell_type": "code",
   "execution_count": 14,
   "metadata": {
    "collapsed": true
   },
   "outputs": [],
   "source": [
    "from keras.models import load_model\n",
    "\n",
    "model.save('gru.h5')\n",
    "del model\n",
    "model = load_model('gru.h5')"
   ]
  }
 ],
 "metadata": {
  "kernelspec": {
   "display_name": "Python 3",
   "language": "python",
   "name": "python3"
  },
  "language_info": {
   "codemirror_mode": {
    "name": "ipython",
    "version": 3
   },
   "file_extension": ".py",
   "mimetype": "text/x-python",
   "name": "python",
   "nbconvert_exporter": "python",
   "pygments_lexer": "ipython3",
   "version": "3.6.1"
  }
 },
 "nbformat": 4,
 "nbformat_minor": 2
}
