{
 "cells": [
  {
   "cell_type": "markdown",
   "metadata": {},
   "source": [
    "Import stuff and initialize global parameters."
   ]
  },
  {
   "cell_type": "code",
   "execution_count": 1,
   "metadata": {},
   "outputs": [
    {
     "name": "stderr",
     "output_type": "stream",
     "text": [
      "Using TensorFlow backend.\n"
     ]
    }
   ],
   "source": [
    "import cv2\n",
    "import numpy as np\n",
    "import pandas as pd\n",
    "import matplotlib.pyplot as plt\n",
    "\n",
    "from keras.layers import Conv2D, Flatten, Dense, LSTM, \\\n",
    "    MaxPooling2D\n",
    "from keras.models import Sequential\n",
    "from common import extract_training_data, generate_multifile\n",
    "\n",
    "IMAGE_SIZE = (64, 64, 3)"
   ]
  },
  {
   "cell_type": "markdown",
   "metadata": {},
   "source": [
    "# LSTM network\n",
    "Reading data and creating initial model."
   ]
  },
  {
   "cell_type": "code",
   "execution_count": 3,
   "metadata": {},
   "outputs": [
    {
     "name": "stdout",
     "output_type": "stream",
     "text": [
      "[[  1.52590219e-05   5.00000000e-01   5.00000000e-01]]\n",
      "[[ 0.86911768  0.          0.82533336]]\n"
     ]
    }
   ],
   "source": [
    "video_names = [\"20171211-182708258.h264\",\n",
    "             \"20171211-183607508.h264\",\n",
    "             \"20171211-184640781.h264\",\n",
    "             \"20171211-185037299.h264\",\n",
    "             \"20171211-191157767.h264\"\n",
    "              ]\n",
    "\n",
    "csv_names = [\"20171211-182708258.csv\",\n",
    "             \"20171211-183607508.csv\",\n",
    "             \"20171211-184640781.csv\",\n",
    "             \"20171211-185037299.csv\",\n",
    "             \"20171211-191157767.csv\"\n",
    "            ]\n",
    "\n",
    "data_gen = generate_multifile(video_names, csv_names)\n",
    "\n",
    "asd = next(data_gen)\n",
    "print(asd[1])\n",
    "\n",
    "for i in range(1200):\n",
    "    next(data_gen)\n",
    "\n",
    "dsa = next(data_gen)\n",
    "print(dsa[1])\n"
   ]
  },
  {
   "cell_type": "code",
   "execution_count": 3,
   "metadata": {},
   "outputs": [
    {
     "name": "stdout",
     "output_type": "stream",
     "text": [
      "_________________________________________________________________\n",
      "Layer (type)                 Output Shape              Param #   \n",
      "=================================================================\n",
      "conv2d_1 (Conv2D)            (None, 62, 62, 32)        896       \n",
      "_________________________________________________________________\n",
      "max_pooling2d_1 (MaxPooling2 (None, 31, 31, 32)        0         \n",
      "_________________________________________________________________\n",
      "permute_1 (Permute)          (None, 32, 31, 31)        0         \n",
      "_________________________________________________________________\n",
      "reshape_1 (Reshape)          (None, 4, 7688)           0         \n",
      "_________________________________________________________________\n",
      "lstm_1 (LSTM)                (None, 64)                1984768   \n",
      "_________________________________________________________________\n",
      "dense_1 (Dense)              (None, 3)                 195       \n",
      "=================================================================\n",
      "Total params: 1,985,859\n",
      "Trainable params: 1,985,859\n",
      "Non-trainable params: 0\n",
      "_________________________________________________________________\n"
     ]
    }
   ],
   "source": [
    "from keras.layers import Permute, Reshape\n",
    "\n",
    "def create_model():\n",
    "    model = Sequential()\n",
    "    model.add(Conv2D(32, (3, 3), kernel_initializer=\"he_normal\", activation='relu', input_shape=IMAGE_SIZE))\n",
    "    model.add(MaxPooling2D((2, 2)))\n",
    "    model.add(Permute((3, 2, 1)))\n",
    "    model.add(Reshape((4, 7688)))\n",
    "    model.add(LSTM(64, return_sequences=False))\n",
    "    model.add(Dense(3, activation='linear'))\n",
    "\n",
    "    model.compile(loss=\"mse\", optimizer=\"adam\")\n",
    "    \n",
    "    return model\n",
    "\n",
    "model = create_model()\n",
    "model.summary()"
   ]
  },
  {
   "cell_type": "markdown",
   "metadata": {},
   "source": [
    "### LSTM network results"
   ]
  },
  {
   "cell_type": "code",
   "execution_count": 4,
   "metadata": {},
   "outputs": [
    {
     "name": "stdout",
     "output_type": "stream",
     "text": [
      "Epoch 1/10\n",
      "3000/3000 [==============================] - 39s - loss: 0.0265    \n",
      "Epoch 2/10\n",
      "3000/3000 [==============================] - 36s - loss: 0.0595    \n",
      "Epoch 3/10\n",
      "3000/3000 [==============================] - 36s - loss: 0.1016    \n",
      "Epoch 4/10\n",
      "3000/3000 [==============================] - 37s - loss: 0.1135    \n",
      "Epoch 5/10\n",
      "3000/3000 [==============================] - 36s - loss: 0.0753    \n",
      "Epoch 6/10\n",
      "3000/3000 [==============================] - 36s - loss: 0.1145    \n",
      "Epoch 7/10\n",
      "3000/3000 [==============================] - 36s - loss: 0.0994    \n",
      "Epoch 8/10\n",
      "3000/3000 [==============================] - 37s - loss: 0.1370    \n",
      "Epoch 9/10\n",
      "3000/3000 [==============================] - 37s - loss: 0.1577    \n",
      "Epoch 10/10\n",
      "3000/3000 [==============================] - 37s - loss: 0.0914    \n"
     ]
    }
   ],
   "source": [
    "history = model.fit_generator(data_gen, steps_per_epoch=3000, epochs=10)"
   ]
  },
  {
   "cell_type": "code",
   "execution_count": 5,
   "metadata": {
    "collapsed": true
   },
   "outputs": [],
   "source": [
    "test_images, test_labels = extract_training_data(\"Data/20171029-201949.h264.avi\", \n",
    "                                                            \"Data/20171029-201949.h264.csv\", \n",
    "                                                            IMAGE_SIZE)\n",
    "\n",
    "prediction = model.predict(test_images)"
   ]
  },
  {
   "cell_type": "code",
   "execution_count": 6,
   "metadata": {},
   "outputs": [
    {
     "data": {
      "text/plain": [
       "array([[  1.77859008e-01,  -3.18855047e-04,   5.82868516e-01],\n",
       "       [  1.77859008e-01,  -3.18855047e-04,   5.82868516e-01],\n",
       "       [  1.77859008e-01,  -3.18855047e-04,   5.82868516e-01],\n",
       "       ..., \n",
       "       [  1.77859008e-01,  -3.18855047e-04,   5.82868516e-01],\n",
       "       [  1.77859008e-01,  -3.18855047e-04,   5.82868516e-01],\n",
       "       [  1.77859008e-01,  -3.18855047e-04,   5.82868516e-01]], dtype=float32)"
      ]
     },
     "execution_count": 6,
     "metadata": {},
     "output_type": "execute_result"
    }
   ],
   "source": [
    "prediction"
   ]
  },
  {
   "cell_type": "code",
   "execution_count": 7,
   "metadata": {},
   "outputs": [
    {
     "data": {
      "image/png": "[encoded data removed]",
      "text/plain": [
       "<matplotlib.figure.Figure at 0x265af804710>"
      ]
     },
     "metadata": {},
     "output_type": "display_data"
    }
   ],
   "source": [
    "plt.hist(prediction[:, 0])\n",
    "plt.show()"
   ]
  },
  {
   "cell_type": "code",
   "execution_count": 8,
   "metadata": {},
   "outputs": [
    {
     "data": {
      "image/png": "[encoded data removed]",
      "text/plain": [
       "<matplotlib.figure.Figure at 0x26753ede828>"
      ]
     },
     "metadata": {},
     "output_type": "display_data"
    }
   ],
   "source": [
    "plt.hist(prediction[:, 1])\n",
    "plt.show()"
   ]
  },
  {
   "cell_type": "code",
   "execution_count": 9,
   "metadata": {},
   "outputs": [
    {
     "data": {
      "image/png": "[encoded data removed]",
      "text/plain": [
       "<matplotlib.figure.Figure at 0x26753baa518>"
      ]
     },
     "metadata": {},
     "output_type": "display_data"
    }
   ],
   "source": [
    "plt.hist(prediction[:, 2])\n",
    "plt.show()"
   ]
  },
  {
   "cell_type": "code",
   "execution_count": 10,
   "metadata": {},
   "outputs": [
    {
     "name": "stdout",
     "output_type": "stream",
     "text": [
      "(1744, 3)\n",
      "(1744, 3)\n"
     ]
    }
   ],
   "source": [
    "validation_labels = test_labels.as_matrix(columns=test_labels.columns[1: -1])\n",
    "clipped_prediction = np.zeros_like(prediction)\n",
    "\n",
    "clipped_prediction[:, 0] = np.clip(prediction[:, 0], -1, 1)\n",
    "clipped_prediction[:, 1] = np.clip(prediction[:, 1], 0, 1)\n",
    "clipped_prediction[:, 2] = np.clip(prediction[:, 2], 0, 1)\n",
    "\n",
    "print(validation_labels.shape)\n",
    "print(clipped_prediction.shape)"
   ]
  },
  {
   "cell_type": "code",
   "execution_count": 11,
   "metadata": {},
   "outputs": [
    {
     "data": {
      "text/plain": [
       "-1.0362081563168128e-15"
      ]
     },
     "execution_count": 11,
     "metadata": {},
     "output_type": "execute_result"
    }
   ],
   "source": [
    "from sklearn.metrics import explained_variance_score\n",
    "explained_variance_score(validation_labels, prediction)"
   ]
  },
  {
   "cell_type": "markdown",
   "metadata": {},
   "source": [
    "## K fold cross validation"
   ]
  },
  {
   "cell_type": "markdown",
   "metadata": {},
   "source": [
    "Currently the model is just a copy of what is above, defined as a function for the KerasRegressor wrapper"
   ]
  },
  {
   "cell_type": "code",
   "execution_count": 28,
   "metadata": {},
   "outputs": [
    {
     "name": "stdout",
     "output_type": "stream",
     "text": [
      "(7855,)\n",
      "(873,)\n"
     ]
    },
    {
     "ename": "AssertionError",
     "evalue": "",
     "output_type": "error",
     "traceback": [
      "\u001b[1;31m---------------------------------------------------------------------------\u001b[0m",
      "\u001b[1;31mAssertionError\u001b[0m                            Traceback (most recent call last)",
      "\u001b[1;32m<ipython-input-28-90ef1bf8b503>\u001b[0m in \u001b[0;36m<module>\u001b[1;34m()\u001b[0m\n\u001b[0;32m      5\u001b[0m \u001b[0mprint\u001b[0m\u001b[1;33m(\u001b[0m\u001b[0mnext_split\u001b[0m\u001b[1;33m[\u001b[0m\u001b[1;36m0\u001b[0m\u001b[1;33m]\u001b[0m\u001b[1;33m.\u001b[0m\u001b[0mshape\u001b[0m\u001b[1;33m)\u001b[0m\u001b[1;33m\u001b[0m\u001b[0m\n\u001b[0;32m      6\u001b[0m \u001b[0mprint\u001b[0m\u001b[1;33m(\u001b[0m\u001b[0mnext_split\u001b[0m\u001b[1;33m[\u001b[0m\u001b[1;36m1\u001b[0m\u001b[1;33m]\u001b[0m\u001b[1;33m.\u001b[0m\u001b[0mshape\u001b[0m\u001b[1;33m)\u001b[0m\u001b[1;33m\u001b[0m\u001b[0m\n\u001b[1;32m----> 7\u001b[1;33m \u001b[1;32massert\u001b[0m \u001b[1;32mFalse\u001b[0m\u001b[1;33m\u001b[0m\u001b[0m\n\u001b[0m\u001b[0;32m      8\u001b[0m \u001b[1;33m\u001b[0m\u001b[0m\n\u001b[0;32m      9\u001b[0m \u001b[1;33m\u001b[0m\u001b[0m\n",
      "\u001b[1;31mAssertionError\u001b[0m: "
     ]
    }
   ],
   "source": [
    "from common import run_kfold_cross_val\n",
    "\n",
    "# Concatenate both videos\n",
    "total_images = np.concatenate((images, test_images), axis=0)\n",
    "total_labels = np.concatenate((labels, test_labels), axis=0)\n",
    "\n",
    "total_y_train = total_labels[:, 1:-1]\n",
    "\n",
    "results = run_kfold_cross_val(create_model, total_images, total_y_train)\n",
    "print(results)\n",
    "print(results.mean())\n",
    "print(np.median(results))"
   ]
  },
  {
   "cell_type": "code",
   "execution_count": null,
   "metadata": {
    "collapsed": true
   },
   "outputs": [],
   "source": []
  }
 ],
 "metadata": {
  "kernelspec": {
   "display_name": "Python 3",
   "language": "python",
   "name": "python3"
  },
  "language_info": {
   "codemirror_mode": {
    "name": "ipython",
    "version": 3
   },
   "file_extension": ".py",
   "mimetype": "text/x-python",
   "name": "python",
   "nbconvert_exporter": "python",
   "pygments_lexer": "ipython3",
   "version": "3.5.4"
  }
 },
 "nbformat": 4,
 "nbformat_minor": 2
}
