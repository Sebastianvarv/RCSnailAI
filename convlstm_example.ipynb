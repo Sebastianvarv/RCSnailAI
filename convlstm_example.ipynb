{
 "cells": [
  {
   "cell_type": "code",
   "execution_count": 3,
   "metadata": {},
   "outputs": [
    {
     "name": "stdout",
     "output_type": "stream",
     "text": [
      "_________________________________________________________________\n",
      "Layer (type)                 Output Shape              Param #   \n",
      "=================================================================\n",
      "time_distributed_17 (TimeDis (None, None, 32, 32, 32)  896       \n",
      "_________________________________________________________________\n",
      "time_distributed_18 (TimeDis (None, None, 30, 30, 32)  9248      \n",
      "_________________________________________________________________\n",
      "time_distributed_19 (TimeDis (None, None, 15, 15, 32)  0         \n",
      "_________________________________________________________________\n",
      "time_distributed_20 (TimeDis (None, None, 15, 15, 32)  9248      \n",
      "_________________________________________________________________\n",
      "time_distributed_21 (TimeDis (None, None, 13, 13, 32)  9248      \n",
      "_________________________________________________________________\n",
      "time_distributed_22 (TimeDis (None, None, 6, 6, 32)    0         \n",
      "_________________________________________________________________\n",
      "time_distributed_23 (TimeDis (None, None, 1152)        0         \n",
      "_________________________________________________________________\n",
      "lstm_2 (LSTM)                (None, None, 32)          151680    \n",
      "_________________________________________________________________\n",
      "time_distributed_24 (TimeDis (None, None, 3)           99        \n",
      "=================================================================\n",
      "Total params: 180,419\n",
      "Trainable params: 180,419\n",
      "Non-trainable params: 0\n",
      "_________________________________________________________________\n"
     ]
    }
   ],
   "source": [
    "from keras.layers import Conv2D, MaxPooling2D, Dense, TimeDistributed, Flatten, LSTM\n",
    "from keras.models import Sequential\n",
    "\n",
    "model = Sequential()\n",
    "model.add(TimeDistributed(Conv2D(32, (3, 3), activation='relu', padding='same'), input_shape=(None, 32, 32, 3)))\n",
    "model.add(TimeDistributed(Conv2D(32, (3, 3), activation='relu')))\n",
    "model.add(TimeDistributed(MaxPooling2D((2, 2))))\n",
    "model.add(TimeDistributed(Conv2D(32, (3, 3), activation='relu', padding='same')))\n",
    "model.add(TimeDistributed(Conv2D(32, (3, 3), activation='relu')))\n",
    "model.add(TimeDistributed(MaxPooling2D((2, 2))))\n",
    "model.add(TimeDistributed(Flatten()))\n",
    "model.add(LSTM(32, return_sequences=True))\n",
    "model.add(TimeDistributed(Dense(3)))\n",
    "model.summary()"
   ]
  },
  {
   "cell_type": "code",
   "execution_count": 4,
   "metadata": {},
   "outputs": [
    {
     "name": "stdout",
     "output_type": "stream",
     "text": [
      "_________________________________________________________________\n",
      "Layer (type)                 Output Shape              Param #   \n",
      "=================================================================\n",
      "time_distributed_25 (TimeDis (None, None, 32, 32, 32)  896       \n",
      "_________________________________________________________________\n",
      "time_distributed_26 (TimeDis (None, None, 30, 30, 32)  9248      \n",
      "_________________________________________________________________\n",
      "time_distributed_27 (TimeDis (None, None, 15, 15, 32)  0         \n",
      "_________________________________________________________________\n",
      "time_distributed_28 (TimeDis (None, None, 15, 15, 32)  9248      \n",
      "_________________________________________________________________\n",
      "time_distributed_29 (TimeDis (None, None, 13, 13, 32)  9248      \n",
      "_________________________________________________________________\n",
      "time_distributed_30 (TimeDis (None, None, 6, 6, 32)    0         \n",
      "_________________________________________________________________\n",
      "conv_lst_m2d_2 (ConvLSTM2D)  (None, None, 2, 2, 32)    204928    \n",
      "_________________________________________________________________\n",
      "time_distributed_31 (TimeDis (None, None, 128)         0         \n",
      "_________________________________________________________________\n",
      "time_distributed_32 (TimeDis (None, None, 3)           387       \n",
      "=================================================================\n",
      "Total params: 233,955\n",
      "Trainable params: 233,955\n",
      "Non-trainable params: 0\n",
      "_________________________________________________________________\n"
     ]
    }
   ],
   "source": [
    "from keras.layers import Conv2D, MaxPooling2D, Dense, TimeDistributed, Flatten, ConvLSTM2D\n",
    "from keras.models import Sequential\n",
    "\n",
    "model = Sequential()\n",
    "model.add(TimeDistributed(Conv2D(32, (3, 3), activation='relu', padding='same'), input_shape=(None, 32, 32, 3)))\n",
    "model.add(TimeDistributed(Conv2D(32, (3, 3), activation='relu')))\n",
    "model.add(TimeDistributed(MaxPooling2D((2, 2))))\n",
    "model.add(TimeDistributed(Conv2D(32, (3, 3), activation='relu', padding='same')))\n",
    "model.add(TimeDistributed(Conv2D(32, (3, 3), activation='relu')))\n",
    "model.add(TimeDistributed(MaxPooling2D((2, 2))))\n",
    "model.add(ConvLSTM2D(32, (5, 5), return_sequences=True))\n",
    "model.add(TimeDistributed(Flatten()))\n",
    "model.add(TimeDistributed(Dense(3)))\n",
    "model.summary()"
   ]
  },
  {
   "cell_type": "code",
   "execution_count": null,
   "metadata": {
    "collapsed": true
   },
   "outputs": [],
   "source": []
  }
 ],
 "metadata": {
  "kernelspec": {
   "display_name": "Python 3",
   "language": "python",
   "name": "python3"
  },
  "language_info": {
   "codemirror_mode": {
    "name": "ipython",
    "version": 3
   },
   "file_extension": ".py",
   "mimetype": "text/x-python",
   "name": "python",
   "nbconvert_exporter": "python",
   "pygments_lexer": "ipython3",
   "version": "3.5.4"
  }
 },
 "nbformat": 4,
 "nbformat_minor": 2
}
